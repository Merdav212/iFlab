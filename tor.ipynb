{
 "cells": [
  {
   "cell_type": "code",
   "execution_count": 59,
   "id": "cb65ec99-67b8-43e4-a01e-f28261ee3b7b",
   "metadata": {},
   "outputs": [],
   "source": [
    "import pandas as pd\n",
    "from pathlib import Path\n",
    "\n",
    "import matplotlib.pyplot as plt\n",
    "from matplotlib.dates import DateFormatter\n",
    "import matplotlib.dates as mdates\n",
    "import matplotlib.ticker as ticker\n",
    "\n",
    "import seaborn as sns"
   ]
  },
  {
   "cell_type": "code",
   "execution_count": 60,
   "id": "a29db331-2d51-4d3c-90cd-db3afe7a8965",
   "metadata": {},
   "outputs": [],
   "source": [
    "path = \"/Users/coes3/phd-labs/fraganal/data_source/tor/\""
   ]
  },
  {
   "cell_type": "code",
   "execution_count": 61,
   "id": "8175bc99-7262-4c29-829a-e9c9b5041a15",
   "metadata": {},
   "outputs": [],
   "source": [
    "def is_censored(row, users, lower, upper):\n",
    "    if  row[users] > row[upper]:\n",
    "        return 1\n",
    "    elif row[users] < row[lower]:\n",
    "        return 0\n",
    "    else:\n",
    "        return 0"
   ]
  },
  {
   "cell_type": "code",
   "execution_count": 62,
   "id": "579cc939-de11-4c5d-9ad7-57292b558b49",
   "metadata": {},
   "outputs": [],
   "source": [
    "def data_prep(path):\n",
    "    #  function to prep radar data in pandas\n",
    "    \n",
    "    files = Path(path).glob('*.csv')\n",
    "    dfs = []\n",
    "    \n",
    "    for i in files:\n",
    "        data = pd.read_csv(i, header = 5, parse_dates = True)\n",
    "        dfs.append(data)\n",
    "        \n",
    "    df = pd.concat(dfs, ignore_index=True)\n",
    "    df.dropna(subset = ['country'], inplace = True)\n",
    "    df = df[(df[\"country\"] != '??')]\n",
    "    \n",
    "    df['censored'] = df.apply(lambda row: is_censored(row,'users', 'lower', 'upper') , axis=1)\n",
    "    df['country']= df['country'].str.upper()\n",
    "    df.rename(columns = {'country':'cc'}, inplace = True)\n",
    "    \n",
    "    columns = ['upper', 'lower', 'frac']\n",
    "    df.drop(columns, inplace=True, axis=1)\n",
    "\n",
    "    return df\n",
    "    "
   ]
  },
  {
   "cell_type": "code",
   "execution_count": 63,
   "id": "74f49d70-72eb-48b9-bc2b-f2e6a95bcff1",
   "metadata": {},
   "outputs": [],
   "source": [
    "df = data_prep(path)"
   ]
  },
  {
   "cell_type": "code",
   "execution_count": 74,
   "id": "aa2776b0-b9e2-4464-9842-a3b8ca2f5ea2",
   "metadata": {},
   "outputs": [],
   "source": [
    "def plot_graph(df):\n",
    "    cc_list = ['CN', 'DE', 'BR', 'IQ', 'IN', 'RW']\n",
    "    plot_tup = [(0,0), (0,1), (0,2), (1,0), (1,1), (1,2)]\n",
    "    fig, axs = plt.subplots(2, 3, figsize=(16, 8))\n",
    "    axs.xaxis.set_major_locator(MonthLocator())\n",
    "    \n",
    "    for i in range(len(cc_list)):\n",
    "        cc = cc_list[i]\n",
    "        a, b = plot_tup[i]\n",
    "        sns.lineplot(x = df.loc[df['cc'] == cc].date.values, y = df.loc[df['cc'] == cc].users.values, hue = df.loc[df['cc'] == cc].censored.values)\n",
    "        axs[a, b].set_title(cc)"
   ]
  },
  {
   "cell_type": "code",
   "execution_count": 75,
   "id": "60f3bf93-6c89-4165-a03b-68ac7d250bc6",
   "metadata": {},
   "outputs": [
    {
     "ename": "AttributeError",
     "evalue": "'numpy.ndarray' object has no attribute 'xaxis'",
     "output_type": "error",
     "traceback": [
      "\u001b[0;31m---------------------------------------------------------------------------\u001b[0m",
      "\u001b[0;31mAttributeError\u001b[0m                            Traceback (most recent call last)",
      "Input \u001b[0;32mIn [75]\u001b[0m, in \u001b[0;36m<cell line: 1>\u001b[0;34m()\u001b[0m\n\u001b[0;32m----> 1\u001b[0m \u001b[43mplot_graph\u001b[49m\u001b[43m(\u001b[49m\u001b[43mdf\u001b[49m\u001b[43m)\u001b[49m\n",
      "Input \u001b[0;32mIn [74]\u001b[0m, in \u001b[0;36mplot_graph\u001b[0;34m(df)\u001b[0m\n\u001b[1;32m      3\u001b[0m plot_tup \u001b[38;5;241m=\u001b[39m [(\u001b[38;5;241m0\u001b[39m,\u001b[38;5;241m0\u001b[39m), (\u001b[38;5;241m0\u001b[39m,\u001b[38;5;241m1\u001b[39m), (\u001b[38;5;241m0\u001b[39m,\u001b[38;5;241m2\u001b[39m), (\u001b[38;5;241m1\u001b[39m,\u001b[38;5;241m0\u001b[39m), (\u001b[38;5;241m1\u001b[39m,\u001b[38;5;241m1\u001b[39m), (\u001b[38;5;241m1\u001b[39m,\u001b[38;5;241m2\u001b[39m)]\n\u001b[1;32m      4\u001b[0m fig, axs \u001b[38;5;241m=\u001b[39m plt\u001b[38;5;241m.\u001b[39msubplots(\u001b[38;5;241m2\u001b[39m, \u001b[38;5;241m3\u001b[39m, figsize\u001b[38;5;241m=\u001b[39m(\u001b[38;5;241m16\u001b[39m, \u001b[38;5;241m8\u001b[39m))\n\u001b[0;32m----> 5\u001b[0m \u001b[43maxs\u001b[49m\u001b[38;5;241;43m.\u001b[39;49m\u001b[43mxaxis\u001b[49m\u001b[38;5;241m.\u001b[39mset_major_locator(MonthLocator())\n\u001b[1;32m      7\u001b[0m \u001b[38;5;28;01mfor\u001b[39;00m i \u001b[38;5;129;01min\u001b[39;00m \u001b[38;5;28mrange\u001b[39m(\u001b[38;5;28mlen\u001b[39m(cc_list)):\n\u001b[1;32m      8\u001b[0m     cc \u001b[38;5;241m=\u001b[39m cc_list[i]\n",
      "\u001b[0;31mAttributeError\u001b[0m: 'numpy.ndarray' object has no attribute 'xaxis'"
     ]
    },
    {
     "data": {
      "image/png": "[encoded data removed]",
      "text/plain": [
       "<Figure size 1152x576 with 6 Axes>"
      ]
     },
     "metadata": {
      "needs_background": "light"
     },
     "output_type": "display_data"
    }
   ],
   "source": [
    "plot_graph(df)"
   ]
  },
  {
   "cell_type": "code",
   "execution_count": null,
   "id": "0249167c-e222-408f-b9ba-eae089021f8c",
   "metadata": {},
   "outputs": [],
   "source": []
  }
 ],
 "metadata": {
  "kernelspec": {
   "display_name": "Python 3 (ipykernel)",
   "language": "python",
   "name": "python3"
  },
  "language_info": {
   "codemirror_mode": {
    "name": "ipython",
    "version": 3
   },
   "file_extension": ".py",
   "mimetype": "text/x-python",
   "name": "python",
   "nbconvert_exporter": "python",
   "pygments_lexer": "ipython3",
   "version": "3.9.12"
  }
 },
 "nbformat": 4,
 "nbformat_minor": 5
}
