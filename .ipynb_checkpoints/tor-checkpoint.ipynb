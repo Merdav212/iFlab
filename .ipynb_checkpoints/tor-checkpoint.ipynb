{
 "cells": [
  {
   "cell_type": "code",
   "execution_count": 39,
   "id": "cb65ec99-67b8-43e4-a01e-f28261ee3b7b",
   "metadata": {},
   "outputs": [],
   "source": [
    "import pandas as pd\n",
    "from pathlib import Path\n",
    "\n",
    "import matplotlib.pyplot as plt\n",
    "from matplotlib.dates import DateFormatter\n",
    "import matplotlib.dates as mdates\n",
    "import matplotlib.ticker as ticker"
   ]
  },
  {
   "cell_type": "code",
   "execution_count": 40,
   "id": "a29db331-2d51-4d3c-90cd-db3afe7a8965",
   "metadata": {},
   "outputs": [],
   "source": [
    "path = \"/Users/coes3/phd-labs/fraganal/data_source/tor/\""
   ]
  },
  {
   "cell_type": "code",
   "execution_count": 44,
   "id": "8175bc99-7262-4c29-829a-e9c9b5041a15",
   "metadata": {},
   "outputs": [],
   "source": [
    "def is_censored(row, users, lower, upper):\n",
    "    if  row[users] > row[upper]:\n",
    "        return 1\n",
    "    elif row[users] < row[lower]:\n",
    "        return 0\n",
    "    else:\n",
    "        return 0"
   ]
  },
  {
   "cell_type": "code",
   "execution_count": 45,
   "id": "579cc939-de11-4c5d-9ad7-57292b558b49",
   "metadata": {},
   "outputs": [],
   "source": [
    "def data_prep(path):\n",
    "    #  function to prep radar data in pandas\n",
    "    \n",
    "    files = Path(path).glob('*.csv')\n",
    "    dfs = []\n",
    "    \n",
    "    for i in files:\n",
    "        data = pd.read_csv(i, header = 5, parse_dates = True)\n",
    "        dfs.append(data)\n",
    "        \n",
    "    df = pd.concat(dfs, ignore_index=True)\n",
    "    df.dropna(subset = ['country'], inplace = True)\n",
    "    df = df[(df[\"country\"] != '??')]\n",
    "    \n",
    "    df['censored'] = df.apply(lambda row: is_censored(row,'users', 'lower', 'upper') , axis=1)\n",
    "    df['country']= df['country'].str.upper()\n",
    "    df.rename(columns = {'country':'cc'}, inplace = True)\n",
    "    \n",
    "    columns = ['lower', 'lower', 'frac']\n",
    "    df.drop(columns, inplace=True, axis=1)\n",
    "\n",
    "    return df\n",
    "    "
   ]
  },
  {
   "cell_type": "code",
   "execution_count": 46,
   "id": "74f49d70-72eb-48b9-bc2b-f2e6a95bcff1",
   "metadata": {},
   "outputs": [],
   "source": [
    "df = data_prep(path)"
   ]
  },
  {
   "cell_type": "code",
   "execution_count": 47,
   "id": "5e4b33d7-ad2a-45ec-b8f2-2c8fbabba478",
   "metadata": {},
   "outputs": [
    {
     "data": {
      "text/html": [
       "<div>\n",
       "<style scoped>\n",
       "    .dataframe tbody tr th:only-of-type {\n",
       "        vertical-align: middle;\n",
       "    }\n",
       "\n",
       "    .dataframe tbody tr th {\n",
       "        vertical-align: top;\n",
       "    }\n",
       "\n",
       "    .dataframe thead th {\n",
       "        text-align: right;\n",
       "    }\n",
       "</style>\n",
       "<table border=\"1\" class=\"dataframe\">\n",
       "  <thead>\n",
       "    <tr style=\"text-align: right;\">\n",
       "      <th></th>\n",
       "      <th>date</th>\n",
       "      <th>cc</th>\n",
       "      <th>users</th>\n",
       "      <th>lower</th>\n",
       "      <th>upper</th>\n",
       "      <th>frac</th>\n",
       "      <th>censored</th>\n",
       "    </tr>\n",
       "  </thead>\n",
       "  <tbody>\n",
       "    <tr>\n",
       "      <th>2</th>\n",
       "      <td>2011-03-06</td>\n",
       "      <td>A1</td>\n",
       "      <td>1441</td>\n",
       "      <td>NaN</td>\n",
       "      <td>NaN</td>\n",
       "      <td>11</td>\n",
       "      <td>0</td>\n",
       "    </tr>\n",
       "    <tr>\n",
       "      <th>3</th>\n",
       "      <td>2011-03-06</td>\n",
       "      <td>A2</td>\n",
       "      <td>422</td>\n",
       "      <td>NaN</td>\n",
       "      <td>NaN</td>\n",
       "      <td>11</td>\n",
       "      <td>0</td>\n",
       "    </tr>\n",
       "    <tr>\n",
       "      <th>4</th>\n",
       "      <td>2011-03-06</td>\n",
       "      <td>AD</td>\n",
       "      <td>69</td>\n",
       "      <td>NaN</td>\n",
       "      <td>NaN</td>\n",
       "      <td>11</td>\n",
       "      <td>0</td>\n",
       "    </tr>\n",
       "    <tr>\n",
       "      <th>5</th>\n",
       "      <td>2011-03-06</td>\n",
       "      <td>AE</td>\n",
       "      <td>8382</td>\n",
       "      <td>NaN</td>\n",
       "      <td>NaN</td>\n",
       "      <td>11</td>\n",
       "      <td>0</td>\n",
       "    </tr>\n",
       "    <tr>\n",
       "      <th>6</th>\n",
       "      <td>2011-03-06</td>\n",
       "      <td>AF</td>\n",
       "      <td>169</td>\n",
       "      <td>NaN</td>\n",
       "      <td>NaN</td>\n",
       "      <td>11</td>\n",
       "      <td>0</td>\n",
       "    </tr>\n",
       "    <tr>\n",
       "      <th>...</th>\n",
       "      <td>...</td>\n",
       "      <td>...</td>\n",
       "      <td>...</td>\n",
       "      <td>...</td>\n",
       "      <td>...</td>\n",
       "      <td>...</td>\n",
       "      <td>...</td>\n",
       "    </tr>\n",
       "    <tr>\n",
       "      <th>959135</th>\n",
       "      <td>2022-07-20</td>\n",
       "      <td>YE</td>\n",
       "      <td>688</td>\n",
       "      <td>155.0</td>\n",
       "      <td>1216.0</td>\n",
       "      <td>86</td>\n",
       "      <td>0</td>\n",
       "    </tr>\n",
       "    <tr>\n",
       "      <th>959136</th>\n",
       "      <td>2022-07-20</td>\n",
       "      <td>YT</td>\n",
       "      <td>23</td>\n",
       "      <td>3.0</td>\n",
       "      <td>85.0</td>\n",
       "      <td>86</td>\n",
       "      <td>0</td>\n",
       "    </tr>\n",
       "    <tr>\n",
       "      <th>959137</th>\n",
       "      <td>2022-07-20</td>\n",
       "      <td>ZA</td>\n",
       "      <td>7170</td>\n",
       "      <td>1866.0</td>\n",
       "      <td>11986.0</td>\n",
       "      <td>86</td>\n",
       "      <td>0</td>\n",
       "    </tr>\n",
       "    <tr>\n",
       "      <th>959138</th>\n",
       "      <td>2022-07-20</td>\n",
       "      <td>ZM</td>\n",
       "      <td>538</td>\n",
       "      <td>153.0</td>\n",
       "      <td>1203.0</td>\n",
       "      <td>86</td>\n",
       "      <td>0</td>\n",
       "    </tr>\n",
       "    <tr>\n",
       "      <th>959139</th>\n",
       "      <td>2022-07-20</td>\n",
       "      <td>ZW</td>\n",
       "      <td>596</td>\n",
       "      <td>162.0</td>\n",
       "      <td>1267.0</td>\n",
       "      <td>86</td>\n",
       "      <td>0</td>\n",
       "    </tr>\n",
       "  </tbody>\n",
       "</table>\n",
       "<p>951200 rows × 7 columns</p>\n",
       "</div>"
      ],
      "text/plain": [
       "              date  cc  users   lower    upper  frac  censored\n",
       "2       2011-03-06  A1   1441     NaN      NaN    11         0\n",
       "3       2011-03-06  A2    422     NaN      NaN    11         0\n",
       "4       2011-03-06  AD     69     NaN      NaN    11         0\n",
       "5       2011-03-06  AE   8382     NaN      NaN    11         0\n",
       "6       2011-03-06  AF    169     NaN      NaN    11         0\n",
       "...            ...  ..    ...     ...      ...   ...       ...\n",
       "959135  2022-07-20  YE    688   155.0   1216.0    86         0\n",
       "959136  2022-07-20  YT     23     3.0     85.0    86         0\n",
       "959137  2022-07-20  ZA   7170  1866.0  11986.0    86         0\n",
       "959138  2022-07-20  ZM    538   153.0   1203.0    86         0\n",
       "959139  2022-07-20  ZW    596   162.0   1267.0    86         0\n",
       "\n",
       "[951200 rows x 7 columns]"
      ]
     },
     "execution_count": 47,
     "metadata": {},
     "output_type": "execute_result"
    }
   ],
   "source": [
    "df"
   ]
  },
  {
   "cell_type": "code",
   "execution_count": 152,
   "id": "aa2776b0-b9e2-4464-9842-a3b8ca2f5ea2",
   "metadata": {},
   "outputs": [],
   "source": [
    "def plot_ip_graph(df):\n",
    "    cc_list = ['CN', 'DE', 'BR', 'IQ', 'IN', 'RW']\n",
    "    plot_tup = [(0,0), (0,1), (0,2), (1,0), (1,1), (1,2)]\n",
    "    fig, axs = plt.subplots(2, 3, figsize=(16, 8))\n",
    "    \n",
    "    for i in range(len(cc_list)):\n",
    "        cc = cc_list[i]\n",
    "        a, b = plot_tup[i]\n",
    "        \n",
    "        axs[a, b].bar(df.loc[df['cc'] == cc].date.values, df.loc[df['cc'] == cc].IPv4.values, color='red', label = 'IPv4', bottom=df.loc[df['cc'] == cc].IPv6.values)\n",
    "        axs[a, b].bar(df.loc[df['cc'] == cc].date.values, df.loc[df['cc'] == cc].IPv6.values, color='green', label = 'IPv6')\n",
    "        axs[a, b].set_title(cc)"
   ]
  },
  {
   "cell_type": "code",
   "execution_count": 154,
   "id": "5b0dca25-46b3-42d4-97b9-8ad20df06d0e",
   "metadata": {},
   "outputs": [],
   "source": [
    "def plot_tls_graph(df):\n",
    "    cc_list = ['CN', 'DE', 'BR', 'IQ', 'IN', 'RW']\n",
    "    plot_tup = [(0,0), (0,1), (0,2), (1,0), (1,1), (1,2)]\n",
    "    fig, axs = plt.subplots(2, 3, figsize=(16, 8))\n",
    "    \n",
    "    for i in range(len(cc_list)):\n",
    "        cc = cc_list[i]\n",
    "        a, b = plot_tup[i]\n",
    "        \n",
    "        axs[a, b].bar(df.loc[df['cc'] == cc].date.values, df.loc[df['cc'] == cc].tlsvquic.values, color='purple', label = 'tlsvquic')\n",
    "        axs[a, b].bar(df.loc[df['cc'] == cc].date.values, df.loc[df['cc'] == cc].tlsv1_3.values, color='red', label = 'tlsv1_3')\n",
    "        axs[a, b].bar(df.loc[df['cc'] == cc].date.values, df.loc[df['cc'] == cc].tlsv1_2.values, color='green', label = 'tlsv1_2')\n",
    "        axs[a, b].bar(df.loc[df['cc'] == cc].date.values, df.loc[df['cc'] == cc].tlsv1_1.values, color='blue', label = 'tlsv1_1')\n",
    "        axs[a, b].bar(df.loc[df['cc'] == cc].date.values, df.loc[df['cc'] == cc].tlsv1_0.values, color='yellow', label = 'tlsv1_0')\n",
    "        axs[a, b].set_title(cc)"
   ]
  },
  {
   "cell_type": "code",
   "execution_count": 153,
   "id": "60f3bf93-6c89-4165-a03b-68ac7d250bc6",
   "metadata": {},
   "outputs": [
    {
     "data": {
      "image/png": "[encoded data removed]",
      "text/plain": [
       "<Figure size 1152x576 with 6 Axes>"
      ]
     },
     "metadata": {
      "needs_background": "light"
     },
     "output_type": "display_data"
    }
   ],
   "source": [
    "plot_ip_graph(df_ip)"
   ]
  },
  {
   "cell_type": "code",
   "execution_count": 155,
   "id": "a6194deb-0918-402a-bff9-c90b60f9dfc4",
   "metadata": {},
   "outputs": [
    {
     "data": {
      "image/png": "[encoded data removed]",
      "text/plain": [
       "<Figure size 1152x576 with 6 Axes>"
      ]
     },
     "metadata": {
      "needs_background": "light"
     },
     "output_type": "display_data"
    }
   ],
   "source": [
    "plot_tls_graph(df_tls)"
   ]
  },
  {
   "cell_type": "code",
   "execution_count": null,
   "id": "0249167c-e222-408f-b9ba-eae089021f8c",
   "metadata": {},
   "outputs": [],
   "source": []
  }
 ],
 "metadata": {
  "kernelspec": {
   "display_name": "Python 3 (ipykernel)",
   "language": "python",
   "name": "python3"
  },
  "language_info": {
   "codemirror_mode": {
    "name": "ipython",
    "version": 3
   },
   "file_extension": ".py",
   "mimetype": "text/x-python",
   "name": "python",
   "nbconvert_exporter": "python",
   "pygments_lexer": "ipython3",
   "version": "3.9.12"
  }
 },
 "nbformat": 4,
 "nbformat_minor": 5
}
