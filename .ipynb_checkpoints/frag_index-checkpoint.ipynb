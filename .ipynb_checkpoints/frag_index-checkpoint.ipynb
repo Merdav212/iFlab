{
 "cells": [
  {
   "cell_type": "code",
   "execution_count": 668,
   "id": "3cd9707f-c93f-4eb8-9184-aadcf8812d05",
   "metadata": {},
   "outputs": [],
   "source": [
    "#import datapane as dp\n",
    "import pandas as pd\n",
    "from pathlib import Path\n",
    "import plotly.express as px\n",
    "import plotly.graph_objects as go\n",
    "from plotly.subplots import make_subplots\n",
    "from functools import reduce\n",
    "import numpy as np"
   ]
  },
  {
   "cell_type": "code",
   "execution_count": 669,
   "id": "2237bf58-7376-488d-b7dd-6896fab39928",
   "metadata": {},
   "outputs": [],
   "source": [
    "#dp.login(token=\"c5e23cba0104dc599cc7b00360f57adfbcfb5d52\")"
   ]
  },
  {
   "cell_type": "markdown",
   "id": "aba7f028-5121-47ff-b1cf-6ea0a845088d",
   "metadata": {},
   "source": [
    "# Need a list of features to aggregate a final score.\n",
    "a1 = web censorshp block fraction\n",
    "b1 = circumvention tool usage (tor relay user count)\n",
    "b2 = VPN and Proxy usage\n",
    "c1 = Internet shutdown duration\n",
    "d1 = radar IPv6 adoption rate\n",
    "d2 = radar TLS1_3 adoption rate\n",
    "e1 = CTI index\n",
    "f1 = data localisation ranking"
   ]
  },
  {
   "cell_type": "code",
   "execution_count": 728,
   "id": "e203da83-5ac2-40a9-92bf-5de656049ee4",
   "metadata": {},
   "outputs": [],
   "source": [
    "a1_path = \"/Users/coes3/phd-labs/fraganal/data_source/ooni/\""
   ]
  },
  {
   "cell_type": "code",
   "execution_count": 740,
   "id": "902bb6b4-dd70-4a98-88c6-32cd61e477bf",
   "metadata": {},
   "outputs": [],
   "source": [
    "def a1_data_prep(path):\n",
    "    files = Path(path).glob('*.csv')\n",
    "    dfs = []\n",
    "\n",
    "    for i in files:\n",
    "        data = pd.read_csv(i, header=0)\n",
    "        data['cc'] = i.name.split('_')[-1].strip('.csv')\n",
    "        dfs.append(data)\n",
    "\n",
    "    df = pd.concat(dfs, ignore_index=True)\n",
    "    df.rename(columns={\"measurement_start_day\":\"date\", \"confirmed_count\":\"blocked_count\", \"ok_count\":\"success_count\"}, inplace = True)\n",
    "    \n",
    "    df = df[['date', 'blocked_count', 'success_count', 'cc']]\n",
    "    \n",
    "    df['date'] = pd.to_datetime(df['date'], format='%Y-%m-%d')\n",
    "    \n",
    "    #  filter for only 2022 data\n",
    "    df = df.loc[(df['date'] >= '2022-01-01') & (df['date'] <='2022-12-31')]\n",
    "    \n",
    "    df['pct_block'] = (df['blocked_count']/(df['success_count'] + df['blocked_count']) * 100)\n",
    "    \n",
    "    df = df[['date', 'cc', 'pct_block']]\n",
    "                       \n",
    "    df['month'] = df['date'].dt.to_period('M')\n",
    "    \n",
    "    #Get average monthly blocked sites as a percentage of none-blocked sites and clip to a max of 100 points\n",
    "    #same number of test carried out, therefore a sum will over inflate figures. A Mean is a more accurate calculation.\n",
    "    \n",
    "    mon_df = df.groupby(['cc', 'month'])['pct_block'].mean().round(2).reset_index(name='a1')\n",
    "    mon_df['a1'].clip(0, 100, inplace=True)\n",
    "    \n",
    "    return mon_df"
   ]
  },
  {
   "cell_type": "code",
   "execution_count": 741,
   "id": "40948db4-0209-4a03-96d0-8468b6bfb307",
   "metadata": {},
   "outputs": [],
   "source": [
    "a1_df = a1_data_prep(a1_path)"
   ]
  },
  {
   "cell_type": "code",
   "execution_count": 767,
   "id": "2e40875c-f59f-4118-b3d0-763196cd4ed4",
   "metadata": {},
   "outputs": [
    {
     "data": {
      "text/plain": [
       "<bound method NDFrame.sample of     cc    month   a1\n",
       "0   BR  2022-01  0.0\n",
       "1   BR  2022-02  0.0\n",
       "2   BR  2022-03  0.0\n",
       "3   BR  2022-04  0.0\n",
       "4   BR  2022-05  0.0\n",
       "..  ..      ...  ...\n",
       "62  RW  2022-04  0.0\n",
       "63  RW  2022-05  0.0\n",
       "64  RW  2022-08  0.0\n",
       "65  RW  2022-10  0.0\n",
       "66  RW  2022-11  0.0\n",
       "\n",
       "[67 rows x 3 columns]>"
      ]
     },
     "execution_count": 767,
     "metadata": {},
     "output_type": "execute_result"
    }
   ],
   "source": [
    "a1_df.sample"
   ]
  },
  {
   "cell_type": "code",
   "execution_count": 1089,
   "id": "232678be-a74f-47c8-b37b-2f3d23ad46cc",
   "metadata": {},
   "outputs": [],
   "source": [
    "b1_path = \"/Users/coes3/phd-labs/fraganal/data_source/tor/\"\n",
    "b1_filepath = \"/Users/coes3/phd-labs/fraganal/data_source/wdi_pop/wdi_pop.csv\"\n",
    "cc_filepath = \"/Users/coes3/phd-labs/fraganal/data_source/cc_alpha2_3.csv\""
   ]
  },
  {
   "cell_type": "code",
   "execution_count": null,
   "id": "7cd5a4ba-1ca9-4383-8a40-2b0c1919aecd",
   "metadata": {},
   "outputs": [],
   "source": []
  },
  {
   "cell_type": "code",
   "execution_count": 1090,
   "id": "8345860f-61e3-497b-893f-d1216256ffe7",
   "metadata": {},
   "outputs": [],
   "source": [
    "def get_inet_pop(path):\n",
    "  \n",
    "    pop_df = pd.read_csv(path, header=0)\n",
    "    pop_df.rename(columns={\"2021 [YR2021] - Individuals using the Internet (% of population) [IT.NET.USER.ZS]\":\"pct\", \"2021 [YR2021] - Population, total [SP.POP.TOTL]\":\"pop\"}, inplace = True)\n",
    "\n",
    "    pop_df['pct'] = pop_df['pct'].replace('..', np.nan)\n",
    "    pop_df['pop'] = pop_df['pop'].replace('..', np.nan)\n",
    "\n",
    "    pop_df['pct'] = pd.to_numeric(pop_df['pct'])\n",
    "    pop_df['pop'] = pd.to_numeric(pop_df['pop'])\n",
    "\n",
    "    pop_df['pct'].fillna(pop_df['pct'].std(), inplace=True)\n",
    "    pop_df['pct'] = round(pop_df['pct'])\n",
    "\n",
    "    pop_df['inet_users'] = pop_df['pop'] * (pop_df['pct']/100)\n",
    "\n",
    "    cc_df = pd.read_csv(cc_filepath)\n",
    "    pop_df = pop_df.join(cc_df[['alpha-3', 'alpha-2']].set_index('alpha-3'), on='Country Code')\n",
    "    pop_df = pop_df[['inet_users', 'alpha-2']]\n",
    "    pop_df.rename(columns = {'alpha-2':'cc'}, inplace = True)\n",
    "\n",
    "    return pop_df"
   ]
  },
  {
   "cell_type": "code",
   "execution_count": 1102,
   "id": "11d8a4e1-4dab-41e8-b886-2e3376119617",
   "metadata": {},
   "outputs": [],
   "source": [
    "def b1_data_prep(path):\n",
    "    #  function to prep tor data in pandas\n",
    "    \n",
    "    files = Path(path).glob('*.csv')\n",
    "    dfs = []\n",
    "    \n",
    "    for i in files:\n",
    "        data = pd.read_csv(i, header=5)\n",
    "        dfs.append(data)\n",
    "        \n",
    "    df = pd.concat(dfs, ignore_index=True)\n",
    "    df.dropna(subset = ['country'], inplace = True)\n",
    "    df = df[(df[\"country\"] != '??')]\n",
    "    \n",
    "    df['country']= df['country'].str.upper()\n",
    "    df.rename(columns = {'country':'cc'}, inplace = True)\n",
    "    \n",
    "    columns = ['upper', 'lower', 'frac']\n",
    "    df.drop(columns, inplace=True, axis=1)\n",
    "    \n",
    "    #filter df with only these countries\n",
    "    cc_list = ['CN','BR','DE','IN','IQ', 'RW']\n",
    "    df = df[df['cc'].isin(cc_list)]\n",
    "    \n",
    "    df['date'] = pd.to_datetime(df['date'], format='%Y-%m-%d')\n",
    "    \n",
    "    #  filter for only 2022 data\n",
    "    df = df.loc[(df['date'] >= '2022-01-01') & (df['date'] <='2022-12-31')]\n",
    "    df['month'] = df['date'].dt.to_period('M')\n",
    "    \n",
    "    inet_df = get_inet_pop(b1_filepath)\n",
    "    \n",
    "    df = df.join(inet_df.set_index('cc'), on='cc')\n",
    "    \n",
    "    df['pct'] = (df['users']/ df['inet_users']) * 100\n",
    "                        \n",
    "    #Get average monthly users as a percentage of total internet users and clip to a max of 100 points\n",
    "    #The number of users measures is best averaged out of a time span as a total sum will over inflate figures. A Mean is a more accurate calculation.\n",
    "    \n",
    "    \n",
    "    mon_df = df.groupby(['cc', 'month'])['pct'].mean().round(1).reset_index(name='b1')\n",
    "    \n",
    "\n",
    "    \n",
    "    return mon_df"
   ]
  },
  {
   "cell_type": "code",
   "execution_count": 1103,
   "id": "e19adcc9-2961-4569-ae5b-906155e7ee30",
   "metadata": {},
   "outputs": [],
   "source": [
    "b1_df = b1_data_prep(b1_path)"
   ]
  },
  {
   "cell_type": "code",
   "execution_count": 1104,
   "id": "a461e46b-e911-408a-9631-d602825f4e08",
   "metadata": {},
   "outputs": [
    {
     "data": {
      "text/html": [
       "<div>\n",
       "<style scoped>\n",
       "    .dataframe tbody tr th:only-of-type {\n",
       "        vertical-align: middle;\n",
       "    }\n",
       "\n",
       "    .dataframe tbody tr th {\n",
       "        vertical-align: top;\n",
       "    }\n",
       "\n",
       "    .dataframe thead th {\n",
       "        text-align: right;\n",
       "    }\n",
       "</style>\n",
       "<table border=\"1\" class=\"dataframe\">\n",
       "  <thead>\n",
       "    <tr style=\"text-align: right;\">\n",
       "      <th></th>\n",
       "      <th>cc</th>\n",
       "      <th>month</th>\n",
       "      <th>b1</th>\n",
       "    </tr>\n",
       "  </thead>\n",
       "  <tbody>\n",
       "    <tr>\n",
       "      <th>0</th>\n",
       "      <td>BR</td>\n",
       "      <td>2022-01</td>\n",
       "      <td>0.2</td>\n",
       "    </tr>\n",
       "    <tr>\n",
       "      <th>1</th>\n",
       "      <td>BR</td>\n",
       "      <td>2022-02</td>\n",
       "      <td>0.2</td>\n",
       "    </tr>\n",
       "    <tr>\n",
       "      <th>2</th>\n",
       "      <td>BR</td>\n",
       "      <td>2022-03</td>\n",
       "      <td>0.2</td>\n",
       "    </tr>\n",
       "    <tr>\n",
       "      <th>3</th>\n",
       "      <td>BR</td>\n",
       "      <td>2022-04</td>\n",
       "      <td>0.2</td>\n",
       "    </tr>\n",
       "    <tr>\n",
       "      <th>4</th>\n",
       "      <td>BR</td>\n",
       "      <td>2022-05</td>\n",
       "      <td>0.2</td>\n",
       "    </tr>\n",
       "    <tr>\n",
       "      <th>5</th>\n",
       "      <td>BR</td>\n",
       "      <td>2022-06</td>\n",
       "      <td>0.2</td>\n",
       "    </tr>\n",
       "    <tr>\n",
       "      <th>6</th>\n",
       "      <td>BR</td>\n",
       "      <td>2022-07</td>\n",
       "      <td>0.2</td>\n",
       "    </tr>\n",
       "    <tr>\n",
       "      <th>7</th>\n",
       "      <td>CN</td>\n",
       "      <td>2022-01</td>\n",
       "      <td>0.0</td>\n",
       "    </tr>\n",
       "    <tr>\n",
       "      <th>8</th>\n",
       "      <td>CN</td>\n",
       "      <td>2022-02</td>\n",
       "      <td>0.0</td>\n",
       "    </tr>\n",
       "    <tr>\n",
       "      <th>9</th>\n",
       "      <td>CN</td>\n",
       "      <td>2022-03</td>\n",
       "      <td>0.0</td>\n",
       "    </tr>\n",
       "    <tr>\n",
       "      <th>10</th>\n",
       "      <td>CN</td>\n",
       "      <td>2022-04</td>\n",
       "      <td>0.0</td>\n",
       "    </tr>\n",
       "    <tr>\n",
       "      <th>11</th>\n",
       "      <td>CN</td>\n",
       "      <td>2022-05</td>\n",
       "      <td>0.0</td>\n",
       "    </tr>\n",
       "    <tr>\n",
       "      <th>12</th>\n",
       "      <td>CN</td>\n",
       "      <td>2022-06</td>\n",
       "      <td>0.0</td>\n",
       "    </tr>\n",
       "    <tr>\n",
       "      <th>13</th>\n",
       "      <td>CN</td>\n",
       "      <td>2022-07</td>\n",
       "      <td>0.0</td>\n",
       "    </tr>\n",
       "    <tr>\n",
       "      <th>14</th>\n",
       "      <td>DE</td>\n",
       "      <td>2022-01</td>\n",
       "      <td>0.3</td>\n",
       "    </tr>\n",
       "    <tr>\n",
       "      <th>15</th>\n",
       "      <td>DE</td>\n",
       "      <td>2022-02</td>\n",
       "      <td>0.3</td>\n",
       "    </tr>\n",
       "    <tr>\n",
       "      <th>16</th>\n",
       "      <td>DE</td>\n",
       "      <td>2022-03</td>\n",
       "      <td>0.3</td>\n",
       "    </tr>\n",
       "    <tr>\n",
       "      <th>17</th>\n",
       "      <td>DE</td>\n",
       "      <td>2022-04</td>\n",
       "      <td>0.3</td>\n",
       "    </tr>\n",
       "    <tr>\n",
       "      <th>18</th>\n",
       "      <td>DE</td>\n",
       "      <td>2022-05</td>\n",
       "      <td>0.4</td>\n",
       "    </tr>\n",
       "    <tr>\n",
       "      <th>19</th>\n",
       "      <td>DE</td>\n",
       "      <td>2022-06</td>\n",
       "      <td>0.5</td>\n",
       "    </tr>\n",
       "    <tr>\n",
       "      <th>20</th>\n",
       "      <td>DE</td>\n",
       "      <td>2022-07</td>\n",
       "      <td>0.6</td>\n",
       "    </tr>\n",
       "    <tr>\n",
       "      <th>21</th>\n",
       "      <td>IN</td>\n",
       "      <td>2022-01</td>\n",
       "      <td>0.1</td>\n",
       "    </tr>\n",
       "    <tr>\n",
       "      <th>22</th>\n",
       "      <td>IN</td>\n",
       "      <td>2022-02</td>\n",
       "      <td>0.1</td>\n",
       "    </tr>\n",
       "    <tr>\n",
       "      <th>23</th>\n",
       "      <td>IN</td>\n",
       "      <td>2022-03</td>\n",
       "      <td>0.1</td>\n",
       "    </tr>\n",
       "    <tr>\n",
       "      <th>24</th>\n",
       "      <td>IN</td>\n",
       "      <td>2022-04</td>\n",
       "      <td>0.1</td>\n",
       "    </tr>\n",
       "    <tr>\n",
       "      <th>25</th>\n",
       "      <td>IN</td>\n",
       "      <td>2022-05</td>\n",
       "      <td>0.1</td>\n",
       "    </tr>\n",
       "    <tr>\n",
       "      <th>26</th>\n",
       "      <td>IN</td>\n",
       "      <td>2022-06</td>\n",
       "      <td>0.1</td>\n",
       "    </tr>\n",
       "    <tr>\n",
       "      <th>27</th>\n",
       "      <td>IN</td>\n",
       "      <td>2022-07</td>\n",
       "      <td>0.1</td>\n",
       "    </tr>\n",
       "    <tr>\n",
       "      <th>28</th>\n",
       "      <td>IQ</td>\n",
       "      <td>2022-01</td>\n",
       "      <td>0.0</td>\n",
       "    </tr>\n",
       "    <tr>\n",
       "      <th>29</th>\n",
       "      <td>IQ</td>\n",
       "      <td>2022-02</td>\n",
       "      <td>0.0</td>\n",
       "    </tr>\n",
       "    <tr>\n",
       "      <th>30</th>\n",
       "      <td>IQ</td>\n",
       "      <td>2022-03</td>\n",
       "      <td>0.0</td>\n",
       "    </tr>\n",
       "    <tr>\n",
       "      <th>31</th>\n",
       "      <td>IQ</td>\n",
       "      <td>2022-04</td>\n",
       "      <td>0.1</td>\n",
       "    </tr>\n",
       "    <tr>\n",
       "      <th>32</th>\n",
       "      <td>IQ</td>\n",
       "      <td>2022-05</td>\n",
       "      <td>0.1</td>\n",
       "    </tr>\n",
       "    <tr>\n",
       "      <th>33</th>\n",
       "      <td>IQ</td>\n",
       "      <td>2022-06</td>\n",
       "      <td>0.0</td>\n",
       "    </tr>\n",
       "    <tr>\n",
       "      <th>34</th>\n",
       "      <td>IQ</td>\n",
       "      <td>2022-07</td>\n",
       "      <td>0.0</td>\n",
       "    </tr>\n",
       "    <tr>\n",
       "      <th>35</th>\n",
       "      <td>RW</td>\n",
       "      <td>2022-01</td>\n",
       "      <td>0.0</td>\n",
       "    </tr>\n",
       "    <tr>\n",
       "      <th>36</th>\n",
       "      <td>RW</td>\n",
       "      <td>2022-02</td>\n",
       "      <td>0.0</td>\n",
       "    </tr>\n",
       "    <tr>\n",
       "      <th>37</th>\n",
       "      <td>RW</td>\n",
       "      <td>2022-03</td>\n",
       "      <td>0.0</td>\n",
       "    </tr>\n",
       "    <tr>\n",
       "      <th>38</th>\n",
       "      <td>RW</td>\n",
       "      <td>2022-04</td>\n",
       "      <td>0.0</td>\n",
       "    </tr>\n",
       "    <tr>\n",
       "      <th>39</th>\n",
       "      <td>RW</td>\n",
       "      <td>2022-05</td>\n",
       "      <td>0.1</td>\n",
       "    </tr>\n",
       "    <tr>\n",
       "      <th>40</th>\n",
       "      <td>RW</td>\n",
       "      <td>2022-06</td>\n",
       "      <td>0.0</td>\n",
       "    </tr>\n",
       "    <tr>\n",
       "      <th>41</th>\n",
       "      <td>RW</td>\n",
       "      <td>2022-07</td>\n",
       "      <td>0.0</td>\n",
       "    </tr>\n",
       "  </tbody>\n",
       "</table>\n",
       "</div>"
      ],
      "text/plain": [
       "    cc    month   b1\n",
       "0   BR  2022-01  0.2\n",
       "1   BR  2022-02  0.2\n",
       "2   BR  2022-03  0.2\n",
       "3   BR  2022-04  0.2\n",
       "4   BR  2022-05  0.2\n",
       "5   BR  2022-06  0.2\n",
       "6   BR  2022-07  0.2\n",
       "7   CN  2022-01  0.0\n",
       "8   CN  2022-02  0.0\n",
       "9   CN  2022-03  0.0\n",
       "10  CN  2022-04  0.0\n",
       "11  CN  2022-05  0.0\n",
       "12  CN  2022-06  0.0\n",
       "13  CN  2022-07  0.0\n",
       "14  DE  2022-01  0.3\n",
       "15  DE  2022-02  0.3\n",
       "16  DE  2022-03  0.3\n",
       "17  DE  2022-04  0.3\n",
       "18  DE  2022-05  0.4\n",
       "19  DE  2022-06  0.5\n",
       "20  DE  2022-07  0.6\n",
       "21  IN  2022-01  0.1\n",
       "22  IN  2022-02  0.1\n",
       "23  IN  2022-03  0.1\n",
       "24  IN  2022-04  0.1\n",
       "25  IN  2022-05  0.1\n",
       "26  IN  2022-06  0.1\n",
       "27  IN  2022-07  0.1\n",
       "28  IQ  2022-01  0.0\n",
       "29  IQ  2022-02  0.0\n",
       "30  IQ  2022-03  0.0\n",
       "31  IQ  2022-04  0.1\n",
       "32  IQ  2022-05  0.1\n",
       "33  IQ  2022-06  0.0\n",
       "34  IQ  2022-07  0.0\n",
       "35  RW  2022-01  0.0\n",
       "36  RW  2022-02  0.0\n",
       "37  RW  2022-03  0.0\n",
       "38  RW  2022-04  0.0\n",
       "39  RW  2022-05  0.1\n",
       "40  RW  2022-06  0.0\n",
       "41  RW  2022-07  0.0"
      ]
     },
     "execution_count": 1104,
     "metadata": {},
     "output_type": "execute_result"
    }
   ],
   "source": [
    "b1_df"
   ]
  },
  {
   "cell_type": "code",
   "execution_count": 747,
   "id": "51c9ff2e-981e-470f-8b70-74d21d992db4",
   "metadata": {},
   "outputs": [],
   "source": [
    "c1_path = \"/Users/coes3/phd-labs/fraganal/data_source/shut/\""
   ]
  },
  {
   "cell_type": "code",
   "execution_count": 1111,
   "id": "06bd66e0-6cea-4e31-97bd-3f733ff81412",
   "metadata": {},
   "outputs": [],
   "source": [
    "def c1_data_prep(path):\n",
    "    files = Path(path).glob('*.csv')\n",
    "    dfs = []\n",
    "\n",
    "    for i in files:\n",
    "        data = pd.read_csv(i, header=0)\n",
    "        dfs.append(data)\n",
    "\n",
    "    df = pd.concat(dfs, ignore_index=True)\n",
    "\n",
    "    cc_df = pd.read_csv(cc_filepath)\n",
    "    df = df.join(cc_df[['name', 'alpha-2']].set_index('name'), on='country')\n",
    "    df.rename(columns = {'alpha-2':'cc'}, inplace = True)\n",
    "\n",
    "    cc_list = ['CN','BR','DE','IN','IQ', 'RW']\n",
    "    df = df[df['cc'].isin(cc_list)]\n",
    "\n",
    "    df['start_date'] = pd.to_datetime(df['start_date'])\n",
    "    df['end_date'] = pd.to_datetime(df['end_date'])\n",
    "\n",
    "    #  filter for only 2022 data \n",
    "    df = df.loc[(df['start_date'] >= '2022-01-01') & (df['start_date'] <='2022-12-31')]\n",
    "    \n",
    "    #  drop any row without a start or end date\n",
    "    df.dropna(subset=['start_date', 'end_date'], inplace=True)\n",
    "    \n",
    "    #  create a duration column with day numbers betwee start and end date\n",
    "    df['duration'] = df['end_date'] - df['start_date']\n",
    "    df['duration'] = df['duration'].astype('timedelta64[D]')\n",
    "    df.drop(columns=['end_date'], inplace=True)\n",
    "    df.rename(columns = {'start_date':'date'}, inplace = True)\n",
    "    df['event_count'] = 1\n",
    "    #df.set_index('date', inplace=True)\n",
    "    df = df[['date', 'cc', 'duration']]\n",
    "    df['month'] = df['date'].dt.to_period('M')\n",
    "   \n",
    "    \n",
    "    #Get sum of monthly shutdowns as a percentage of 365 days and clip to a max of 100 points\n",
    "    mon_df = df.groupby(['cc', 'month'])['duration'].sum().reset_index(name='c1')\n",
    "    mon_df['c1'] = round((mon_df['c1']/365) * 100)\n",
    "    mon_df['c1'].clip(0, 100, inplace=True)\n",
    "    \n",
    "    \n",
    "    return mon_df"
   ]
  },
  {
   "cell_type": "code",
   "execution_count": 1112,
   "id": "467de5f3-88ae-48a9-b123-2837eca71955",
   "metadata": {},
   "outputs": [],
   "source": [
    "c1_df = c1_data_prep(c1_path)"
   ]
  },
  {
   "cell_type": "code",
   "execution_count": 1113,
   "id": "d8f0b205-9ad2-4462-8e21-b915f7eda945",
   "metadata": {},
   "outputs": [
    {
     "data": {
      "text/html": [
       "<div>\n",
       "<style scoped>\n",
       "    .dataframe tbody tr th:only-of-type {\n",
       "        vertical-align: middle;\n",
       "    }\n",
       "\n",
       "    .dataframe tbody tr th {\n",
       "        vertical-align: top;\n",
       "    }\n",
       "\n",
       "    .dataframe thead th {\n",
       "        text-align: right;\n",
       "    }\n",
       "</style>\n",
       "<table border=\"1\" class=\"dataframe\">\n",
       "  <thead>\n",
       "    <tr style=\"text-align: right;\">\n",
       "      <th></th>\n",
       "      <th>cc</th>\n",
       "      <th>month</th>\n",
       "      <th>c1</th>\n",
       "    </tr>\n",
       "  </thead>\n",
       "  <tbody>\n",
       "    <tr>\n",
       "      <th>0</th>\n",
       "      <td>BR</td>\n",
       "      <td>2022-03</td>\n",
       "      <td>1.0</td>\n",
       "    </tr>\n",
       "    <tr>\n",
       "      <th>1</th>\n",
       "      <td>IN</td>\n",
       "      <td>2022-01</td>\n",
       "      <td>6.0</td>\n",
       "    </tr>\n",
       "    <tr>\n",
       "      <th>2</th>\n",
       "      <td>IN</td>\n",
       "      <td>2022-02</td>\n",
       "      <td>5.0</td>\n",
       "    </tr>\n",
       "    <tr>\n",
       "      <th>3</th>\n",
       "      <td>IN</td>\n",
       "      <td>2022-03</td>\n",
       "      <td>3.0</td>\n",
       "    </tr>\n",
       "    <tr>\n",
       "      <th>4</th>\n",
       "      <td>IN</td>\n",
       "      <td>2022-04</td>\n",
       "      <td>6.0</td>\n",
       "    </tr>\n",
       "    <tr>\n",
       "      <th>5</th>\n",
       "      <td>IN</td>\n",
       "      <td>2022-05</td>\n",
       "      <td>4.0</td>\n",
       "    </tr>\n",
       "    <tr>\n",
       "      <th>6</th>\n",
       "      <td>IN</td>\n",
       "      <td>2022-06</td>\n",
       "      <td>10.0</td>\n",
       "    </tr>\n",
       "    <tr>\n",
       "      <th>7</th>\n",
       "      <td>IN</td>\n",
       "      <td>2022-07</td>\n",
       "      <td>0.0</td>\n",
       "    </tr>\n",
       "    <tr>\n",
       "      <th>8</th>\n",
       "      <td>IN</td>\n",
       "      <td>2022-08</td>\n",
       "      <td>4.0</td>\n",
       "    </tr>\n",
       "    <tr>\n",
       "      <th>9</th>\n",
       "      <td>IN</td>\n",
       "      <td>2022-09</td>\n",
       "      <td>0.0</td>\n",
       "    </tr>\n",
       "    <tr>\n",
       "      <th>10</th>\n",
       "      <td>IN</td>\n",
       "      <td>2022-10</td>\n",
       "      <td>0.0</td>\n",
       "    </tr>\n",
       "    <tr>\n",
       "      <th>11</th>\n",
       "      <td>IN</td>\n",
       "      <td>2022-11</td>\n",
       "      <td>3.0</td>\n",
       "    </tr>\n",
       "    <tr>\n",
       "      <th>12</th>\n",
       "      <td>IN</td>\n",
       "      <td>2022-12</td>\n",
       "      <td>1.0</td>\n",
       "    </tr>\n",
       "    <tr>\n",
       "      <th>13</th>\n",
       "      <td>IQ</td>\n",
       "      <td>2022-06</td>\n",
       "      <td>7.0</td>\n",
       "    </tr>\n",
       "  </tbody>\n",
       "</table>\n",
       "</div>"
      ],
      "text/plain": [
       "    cc    month    c1\n",
       "0   BR  2022-03   1.0\n",
       "1   IN  2022-01   6.0\n",
       "2   IN  2022-02   5.0\n",
       "3   IN  2022-03   3.0\n",
       "4   IN  2022-04   6.0\n",
       "5   IN  2022-05   4.0\n",
       "6   IN  2022-06  10.0\n",
       "7   IN  2022-07   0.0\n",
       "8   IN  2022-08   4.0\n",
       "9   IN  2022-09   0.0\n",
       "10  IN  2022-10   0.0\n",
       "11  IN  2022-11   3.0\n",
       "12  IN  2022-12   1.0\n",
       "13  IQ  2022-06   7.0"
      ]
     },
     "execution_count": 1113,
     "metadata": {},
     "output_type": "execute_result"
    }
   ],
   "source": [
    "c1_df"
   ]
  },
  {
   "cell_type": "code",
   "execution_count": 1114,
   "id": "15625885-c514-40b3-a0c5-5decccd37993",
   "metadata": {},
   "outputs": [],
   "source": [
    "d_path = \"/Users/coes3/phd-labs/fraganal/data_source/radar/\""
   ]
  },
  {
   "cell_type": "code",
   "execution_count": 1158,
   "id": "1fb1f89e-9f9a-454b-9e85-cc25509d88f5",
   "metadata": {},
   "outputs": [],
   "source": [
    "def d_data_prep(proto_type, path):\n",
    "    #  function to prep radar data in pandas\n",
    "    \n",
    "    files = Path(path).glob(f'{proto_type}Versions*.csv')\n",
    "    dfs = []\n",
    "    \n",
    "    for i in files:\n",
    "        data = pd.read_csv(i, index_col=None, header=0)\n",
    "        data['cc'] = i.name.split('_')[-1].strip('.csv')\n",
    "        dfs.append(data)\n",
    "        \n",
    "    df = pd.concat(dfs, ignore_index=True)\n",
    "\n",
    "    df['date'] = pd.to_datetime(df['Serie_0 timestamps'], format='%Y-%m-%d')\n",
    "    df['date'] = df['date'].dt.tz_convert(None)\n",
    "    df['month'] = df['date'].dt.to_period('M')\n",
    "    #  filter for only 2022 data\n",
    "    df = df.loc[(df['date'] >= '2022-01-01') & (df['date'] <='2022-12-31')]\n",
    "    \n",
    "    if proto_type == \"IP\":\n",
    "        df.rename(columns={\"Serie_0  I Pv4\":\"ipv4\", \"Serie_0  I Pv6\":\"ipv6\"}, inplace = True)\n",
    "        df = df[['date', 'cc', 'ipv6', 'month']]\n",
    "        df['pct'] = round(100 - df['ipv6'])\n",
    "        \n",
    "        #  Get average of monthly pct of version usage, clip to a max of 100 points\n",
    "        mon_df = df.groupby(['cc', 'month'])['pct'].mean().round().reset_index(name='d1')\n",
    "        mon_df['d1'].clip(0, 100, inplace=True)\n",
    "    \n",
    "    \n",
    "    else:\n",
    "        df.rename(columns={\"Serie_0 timestamps\":\"date\", \"Serie_0  T L S 1.3\":\"tlsv1_3\", \"Serie_0  T L S 1.2\":\"tlsv1_2\", \n",
    "                           \"Serie_0  T L S  Q U I C\":\"tlsvquic\", \"Serie_0  T L S 1.0\":\"tlsv1_0\", \"Serie_0  T L S 1.1\":\"tlsv1_1\"}, inplace = True)\n",
    "        df['tls1_3'] = df['tlsv1_3'] + df['tlsvquic'] \n",
    "        df = df[['date', 'cc','tls1_3', 'month']]\n",
    "        df['pct'] = round(100 - df['tls1_3'])\n",
    "    \n",
    "        #  Get aggregate of monthly pct of version usage, clip to a max of 100 points\n",
    "        mon_df = df.groupby(['cc', 'month'])['pct'].mean().round().reset_index(name='d2')\n",
    "        mon_df['d2'].clip(0, 100, inplace=True)\n",
    "    \n",
    "    return mon_df"
   ]
  },
  {
   "cell_type": "code",
   "execution_count": 1159,
   "id": "db7739f7-6093-4c48-bdc5-4930a4ba9f9c",
   "metadata": {},
   "outputs": [],
   "source": [
    "d1_df = d_data_prep('IP', d_path)"
   ]
  },
  {
   "cell_type": "code",
   "execution_count": 1160,
   "id": "ba9e6175-f8d1-458a-8d29-c0f2fc2749c8",
   "metadata": {},
   "outputs": [],
   "source": [
    "d2_df = d_data_prep('TLS', d_path)"
   ]
  },
  {
   "cell_type": "code",
   "execution_count": 1161,
   "id": "500544bd-fcaa-49ed-a8c6-de10db5929f5",
   "metadata": {},
   "outputs": [
    {
     "data": {
      "text/html": [
       "<div>\n",
       "<style scoped>\n",
       "    .dataframe tbody tr th:only-of-type {\n",
       "        vertical-align: middle;\n",
       "    }\n",
       "\n",
       "    .dataframe tbody tr th {\n",
       "        vertical-align: top;\n",
       "    }\n",
       "\n",
       "    .dataframe thead th {\n",
       "        text-align: right;\n",
       "    }\n",
       "</style>\n",
       "<table border=\"1\" class=\"dataframe\">\n",
       "  <thead>\n",
       "    <tr style=\"text-align: right;\">\n",
       "      <th></th>\n",
       "      <th>cc</th>\n",
       "      <th>month</th>\n",
       "      <th>d1</th>\n",
       "    </tr>\n",
       "  </thead>\n",
       "  <tbody>\n",
       "    <tr>\n",
       "      <th>0</th>\n",
       "      <td>BR</td>\n",
       "      <td>2022-01</td>\n",
       "      <td>73.0</td>\n",
       "    </tr>\n",
       "    <tr>\n",
       "      <th>1</th>\n",
       "      <td>BR</td>\n",
       "      <td>2022-02</td>\n",
       "      <td>73.0</td>\n",
       "    </tr>\n",
       "    <tr>\n",
       "      <th>2</th>\n",
       "      <td>BR</td>\n",
       "      <td>2022-03</td>\n",
       "      <td>72.0</td>\n",
       "    </tr>\n",
       "    <tr>\n",
       "      <th>3</th>\n",
       "      <td>BR</td>\n",
       "      <td>2022-04</td>\n",
       "      <td>73.0</td>\n",
       "    </tr>\n",
       "    <tr>\n",
       "      <th>4</th>\n",
       "      <td>BR</td>\n",
       "      <td>2022-05</td>\n",
       "      <td>73.0</td>\n",
       "    </tr>\n",
       "    <tr>\n",
       "      <th>...</th>\n",
       "      <td>...</td>\n",
       "      <td>...</td>\n",
       "      <td>...</td>\n",
       "    </tr>\n",
       "    <tr>\n",
       "      <th>67</th>\n",
       "      <td>RW</td>\n",
       "      <td>2022-08</td>\n",
       "      <td>90.0</td>\n",
       "    </tr>\n",
       "    <tr>\n",
       "      <th>68</th>\n",
       "      <td>RW</td>\n",
       "      <td>2022-09</td>\n",
       "      <td>91.0</td>\n",
       "    </tr>\n",
       "    <tr>\n",
       "      <th>69</th>\n",
       "      <td>RW</td>\n",
       "      <td>2022-10</td>\n",
       "      <td>92.0</td>\n",
       "    </tr>\n",
       "    <tr>\n",
       "      <th>70</th>\n",
       "      <td>RW</td>\n",
       "      <td>2022-11</td>\n",
       "      <td>90.0</td>\n",
       "    </tr>\n",
       "    <tr>\n",
       "      <th>71</th>\n",
       "      <td>RW</td>\n",
       "      <td>2022-12</td>\n",
       "      <td>90.0</td>\n",
       "    </tr>\n",
       "  </tbody>\n",
       "</table>\n",
       "<p>72 rows × 3 columns</p>\n",
       "</div>"
      ],
      "text/plain": [
       "    cc    month    d1\n",
       "0   BR  2022-01  73.0\n",
       "1   BR  2022-02  73.0\n",
       "2   BR  2022-03  72.0\n",
       "3   BR  2022-04  73.0\n",
       "4   BR  2022-05  73.0\n",
       "..  ..      ...   ...\n",
       "67  RW  2022-08  90.0\n",
       "68  RW  2022-09  91.0\n",
       "69  RW  2022-10  92.0\n",
       "70  RW  2022-11  90.0\n",
       "71  RW  2022-12  90.0\n",
       "\n",
       "[72 rows x 3 columns]"
      ]
     },
     "execution_count": 1161,
     "metadata": {},
     "output_type": "execute_result"
    }
   ],
   "source": [
    "d1_df"
   ]
  },
  {
   "cell_type": "code",
   "execution_count": 1162,
   "id": "c6ecb669-b1bb-4923-b090-40ab9fcfe67b",
   "metadata": {},
   "outputs": [
    {
     "data": {
      "text/html": [
       "<div>\n",
       "<style scoped>\n",
       "    .dataframe tbody tr th:only-of-type {\n",
       "        vertical-align: middle;\n",
       "    }\n",
       "\n",
       "    .dataframe tbody tr th {\n",
       "        vertical-align: top;\n",
       "    }\n",
       "\n",
       "    .dataframe thead th {\n",
       "        text-align: right;\n",
       "    }\n",
       "</style>\n",
       "<table border=\"1\" class=\"dataframe\">\n",
       "  <thead>\n",
       "    <tr style=\"text-align: right;\">\n",
       "      <th></th>\n",
       "      <th>cc</th>\n",
       "      <th>month</th>\n",
       "      <th>d2</th>\n",
       "    </tr>\n",
       "  </thead>\n",
       "  <tbody>\n",
       "    <tr>\n",
       "      <th>51</th>\n",
       "      <td>IQ</td>\n",
       "      <td>2022-04</td>\n",
       "      <td>25.0</td>\n",
       "    </tr>\n",
       "    <tr>\n",
       "      <th>33</th>\n",
       "      <td>DE</td>\n",
       "      <td>2022-10</td>\n",
       "      <td>17.0</td>\n",
       "    </tr>\n",
       "    <tr>\n",
       "      <th>45</th>\n",
       "      <td>IN</td>\n",
       "      <td>2022-10</td>\n",
       "      <td>17.0</td>\n",
       "    </tr>\n",
       "    <tr>\n",
       "      <th>36</th>\n",
       "      <td>IN</td>\n",
       "      <td>2022-01</td>\n",
       "      <td>24.0</td>\n",
       "    </tr>\n",
       "    <tr>\n",
       "      <th>26</th>\n",
       "      <td>DE</td>\n",
       "      <td>2022-03</td>\n",
       "      <td>18.0</td>\n",
       "    </tr>\n",
       "    <tr>\n",
       "      <th>3</th>\n",
       "      <td>BR</td>\n",
       "      <td>2022-04</td>\n",
       "      <td>21.0</td>\n",
       "    </tr>\n",
       "  </tbody>\n",
       "</table>\n",
       "</div>"
      ],
      "text/plain": [
       "    cc    month    d2\n",
       "51  IQ  2022-04  25.0\n",
       "33  DE  2022-10  17.0\n",
       "45  IN  2022-10  17.0\n",
       "36  IN  2022-01  24.0\n",
       "26  DE  2022-03  18.0\n",
       "3   BR  2022-04  21.0"
      ]
     },
     "execution_count": 1162,
     "metadata": {},
     "output_type": "execute_result"
    }
   ],
   "source": [
    "d2_df.sample(6)"
   ]
  },
  {
   "cell_type": "code",
   "execution_count": 1163,
   "id": "ef10651a-ca70-469f-b4e9-3d1d0b037749",
   "metadata": {},
   "outputs": [],
   "source": [
    "data_frames = [a1_df, b1_df, c1_df, d1_df, d2_df]"
   ]
  },
  {
   "cell_type": "code",
   "execution_count": 1164,
   "id": "8a34af2d-5899-457d-b3c8-9efba612decc",
   "metadata": {},
   "outputs": [],
   "source": [
    "df_merged = reduce(lambda  left,right: pd.merge(left, right, on=['month', 'cc'],\n",
    "                                            how='left'), data_frames)"
   ]
  },
  {
   "cell_type": "code",
   "execution_count": 1165,
   "id": "5d206b95-a438-43fb-a0ab-35442ef39dac",
   "metadata": {},
   "outputs": [
    {
     "data": {
      "text/html": [
       "<div>\n",
       "<style scoped>\n",
       "    .dataframe tbody tr th:only-of-type {\n",
       "        vertical-align: middle;\n",
       "    }\n",
       "\n",
       "    .dataframe tbody tr th {\n",
       "        vertical-align: top;\n",
       "    }\n",
       "\n",
       "    .dataframe thead th {\n",
       "        text-align: right;\n",
       "    }\n",
       "</style>\n",
       "<table border=\"1\" class=\"dataframe\">\n",
       "  <thead>\n",
       "    <tr style=\"text-align: right;\">\n",
       "      <th></th>\n",
       "      <th>cc</th>\n",
       "      <th>month</th>\n",
       "      <th>a1</th>\n",
       "      <th>b1</th>\n",
       "      <th>c1</th>\n",
       "      <th>d1</th>\n",
       "      <th>d2</th>\n",
       "    </tr>\n",
       "  </thead>\n",
       "  <tbody>\n",
       "    <tr>\n",
       "      <th>0</th>\n",
       "      <td>BR</td>\n",
       "      <td>2022-01</td>\n",
       "      <td>0.0</td>\n",
       "      <td>0.2</td>\n",
       "      <td>NaN</td>\n",
       "      <td>73.0</td>\n",
       "      <td>22.0</td>\n",
       "    </tr>\n",
       "    <tr>\n",
       "      <th>1</th>\n",
       "      <td>BR</td>\n",
       "      <td>2022-02</td>\n",
       "      <td>0.0</td>\n",
       "      <td>0.2</td>\n",
       "      <td>NaN</td>\n",
       "      <td>73.0</td>\n",
       "      <td>24.0</td>\n",
       "    </tr>\n",
       "    <tr>\n",
       "      <th>2</th>\n",
       "      <td>BR</td>\n",
       "      <td>2022-03</td>\n",
       "      <td>0.0</td>\n",
       "      <td>0.2</td>\n",
       "      <td>1.0</td>\n",
       "      <td>72.0</td>\n",
       "      <td>21.0</td>\n",
       "    </tr>\n",
       "    <tr>\n",
       "      <th>3</th>\n",
       "      <td>BR</td>\n",
       "      <td>2022-04</td>\n",
       "      <td>0.0</td>\n",
       "      <td>0.2</td>\n",
       "      <td>NaN</td>\n",
       "      <td>73.0</td>\n",
       "      <td>21.0</td>\n",
       "    </tr>\n",
       "    <tr>\n",
       "      <th>4</th>\n",
       "      <td>BR</td>\n",
       "      <td>2022-05</td>\n",
       "      <td>0.0</td>\n",
       "      <td>0.2</td>\n",
       "      <td>NaN</td>\n",
       "      <td>73.0</td>\n",
       "      <td>21.0</td>\n",
       "    </tr>\n",
       "    <tr>\n",
       "      <th>...</th>\n",
       "      <td>...</td>\n",
       "      <td>...</td>\n",
       "      <td>...</td>\n",
       "      <td>...</td>\n",
       "      <td>...</td>\n",
       "      <td>...</td>\n",
       "      <td>...</td>\n",
       "    </tr>\n",
       "    <tr>\n",
       "      <th>62</th>\n",
       "      <td>RW</td>\n",
       "      <td>2022-04</td>\n",
       "      <td>0.0</td>\n",
       "      <td>0.0</td>\n",
       "      <td>NaN</td>\n",
       "      <td>90.0</td>\n",
       "      <td>29.0</td>\n",
       "    </tr>\n",
       "    <tr>\n",
       "      <th>63</th>\n",
       "      <td>RW</td>\n",
       "      <td>2022-05</td>\n",
       "      <td>0.0</td>\n",
       "      <td>0.1</td>\n",
       "      <td>NaN</td>\n",
       "      <td>91.0</td>\n",
       "      <td>30.0</td>\n",
       "    </tr>\n",
       "    <tr>\n",
       "      <th>64</th>\n",
       "      <td>RW</td>\n",
       "      <td>2022-08</td>\n",
       "      <td>0.0</td>\n",
       "      <td>NaN</td>\n",
       "      <td>NaN</td>\n",
       "      <td>90.0</td>\n",
       "      <td>21.0</td>\n",
       "    </tr>\n",
       "    <tr>\n",
       "      <th>65</th>\n",
       "      <td>RW</td>\n",
       "      <td>2022-10</td>\n",
       "      <td>0.0</td>\n",
       "      <td>NaN</td>\n",
       "      <td>NaN</td>\n",
       "      <td>92.0</td>\n",
       "      <td>21.0</td>\n",
       "    </tr>\n",
       "    <tr>\n",
       "      <th>66</th>\n",
       "      <td>RW</td>\n",
       "      <td>2022-11</td>\n",
       "      <td>0.0</td>\n",
       "      <td>NaN</td>\n",
       "      <td>NaN</td>\n",
       "      <td>90.0</td>\n",
       "      <td>20.0</td>\n",
       "    </tr>\n",
       "  </tbody>\n",
       "</table>\n",
       "<p>67 rows × 7 columns</p>\n",
       "</div>"
      ],
      "text/plain": [
       "    cc    month   a1   b1   c1    d1    d2\n",
       "0   BR  2022-01  0.0  0.2  NaN  73.0  22.0\n",
       "1   BR  2022-02  0.0  0.2  NaN  73.0  24.0\n",
       "2   BR  2022-03  0.0  0.2  1.0  72.0  21.0\n",
       "3   BR  2022-04  0.0  0.2  NaN  73.0  21.0\n",
       "4   BR  2022-05  0.0  0.2  NaN  73.0  21.0\n",
       "..  ..      ...  ...  ...  ...   ...   ...\n",
       "62  RW  2022-04  0.0  0.0  NaN  90.0  29.0\n",
       "63  RW  2022-05  0.0  0.1  NaN  91.0  30.0\n",
       "64  RW  2022-08  0.0  NaN  NaN  90.0  21.0\n",
       "65  RW  2022-10  0.0  NaN  NaN  92.0  21.0\n",
       "66  RW  2022-11  0.0  NaN  NaN  90.0  20.0\n",
       "\n",
       "[67 rows x 7 columns]"
      ]
     },
     "execution_count": 1165,
     "metadata": {},
     "output_type": "execute_result"
    }
   ],
   "source": [
    "df_merged"
   ]
  },
  {
   "cell_type": "code",
   "execution_count": 1166,
   "id": "d9e10cbd-18de-4c24-b137-56bb9ca05e2a",
   "metadata": {},
   "outputs": [],
   "source": [
    "ann_df = df_merged.groupby('cc').agg({'a1': 'mean','b1': 'mean', 'c1':'sum', 'd1':'mean', 'd2':'mean'}).reset_index()"
   ]
  },
  {
   "cell_type": "code",
   "execution_count": 1167,
   "id": "75a12b4c-7b5f-411d-9e9c-c12851287dc1",
   "metadata": {},
   "outputs": [],
   "source": [
    "mon_df = df_merged.groupby(['month', 'cc']).agg({'a1': 'mean', 'b1': 'mean', 'c1':'sum', 'd1':'mean', 'd2':'mean'}).reset_index()"
   ]
  },
  {
   "cell_type": "code",
   "execution_count": 1168,
   "id": "6285f298-f89e-42b2-a16e-83a2e1e4e04d",
   "metadata": {},
   "outputs": [
    {
     "data": {
      "text/html": [
       "<div>\n",
       "<style scoped>\n",
       "    .dataframe tbody tr th:only-of-type {\n",
       "        vertical-align: middle;\n",
       "    }\n",
       "\n",
       "    .dataframe tbody tr th {\n",
       "        vertical-align: top;\n",
       "    }\n",
       "\n",
       "    .dataframe thead th {\n",
       "        text-align: right;\n",
       "    }\n",
       "</style>\n",
       "<table border=\"1\" class=\"dataframe\">\n",
       "  <thead>\n",
       "    <tr style=\"text-align: right;\">\n",
       "      <th></th>\n",
       "      <th>month</th>\n",
       "      <th>cc</th>\n",
       "      <th>a1</th>\n",
       "      <th>b1</th>\n",
       "      <th>c1</th>\n",
       "      <th>d1</th>\n",
       "      <th>d2</th>\n",
       "    </tr>\n",
       "  </thead>\n",
       "  <tbody>\n",
       "    <tr>\n",
       "      <th>0</th>\n",
       "      <td>2022-01</td>\n",
       "      <td>BR</td>\n",
       "      <td>0.00</td>\n",
       "      <td>0.2</td>\n",
       "      <td>0.0</td>\n",
       "      <td>73.0</td>\n",
       "      <td>22.0</td>\n",
       "    </tr>\n",
       "    <tr>\n",
       "      <th>1</th>\n",
       "      <td>2022-01</td>\n",
       "      <td>CN</td>\n",
       "      <td>0.75</td>\n",
       "      <td>0.0</td>\n",
       "      <td>0.0</td>\n",
       "      <td>83.0</td>\n",
       "      <td>35.0</td>\n",
       "    </tr>\n",
       "    <tr>\n",
       "      <th>2</th>\n",
       "      <td>2022-01</td>\n",
       "      <td>DE</td>\n",
       "      <td>0.06</td>\n",
       "      <td>0.3</td>\n",
       "      <td>0.0</td>\n",
       "      <td>70.0</td>\n",
       "      <td>20.0</td>\n",
       "    </tr>\n",
       "    <tr>\n",
       "      <th>3</th>\n",
       "      <td>2022-01</td>\n",
       "      <td>IN</td>\n",
       "      <td>0.01</td>\n",
       "      <td>0.1</td>\n",
       "      <td>6.0</td>\n",
       "      <td>44.0</td>\n",
       "      <td>24.0</td>\n",
       "    </tr>\n",
       "    <tr>\n",
       "      <th>4</th>\n",
       "      <td>2022-01</td>\n",
       "      <td>IQ</td>\n",
       "      <td>0.00</td>\n",
       "      <td>0.0</td>\n",
       "      <td>0.0</td>\n",
       "      <td>99.0</td>\n",
       "      <td>19.0</td>\n",
       "    </tr>\n",
       "    <tr>\n",
       "      <th>...</th>\n",
       "      <td>...</td>\n",
       "      <td>...</td>\n",
       "      <td>...</td>\n",
       "      <td>...</td>\n",
       "      <td>...</td>\n",
       "      <td>...</td>\n",
       "      <td>...</td>\n",
       "    </tr>\n",
       "    <tr>\n",
       "      <th>62</th>\n",
       "      <td>2022-12</td>\n",
       "      <td>BR</td>\n",
       "      <td>0.00</td>\n",
       "      <td>NaN</td>\n",
       "      <td>0.0</td>\n",
       "      <td>77.0</td>\n",
       "      <td>18.0</td>\n",
       "    </tr>\n",
       "    <tr>\n",
       "      <th>63</th>\n",
       "      <td>2022-12</td>\n",
       "      <td>CN</td>\n",
       "      <td>0.98</td>\n",
       "      <td>NaN</td>\n",
       "      <td>0.0</td>\n",
       "      <td>82.0</td>\n",
       "      <td>23.0</td>\n",
       "    </tr>\n",
       "    <tr>\n",
       "      <th>64</th>\n",
       "      <td>2022-12</td>\n",
       "      <td>DE</td>\n",
       "      <td>0.00</td>\n",
       "      <td>NaN</td>\n",
       "      <td>0.0</td>\n",
       "      <td>74.0</td>\n",
       "      <td>17.0</td>\n",
       "    </tr>\n",
       "    <tr>\n",
       "      <th>65</th>\n",
       "      <td>2022-12</td>\n",
       "      <td>IN</td>\n",
       "      <td>0.00</td>\n",
       "      <td>NaN</td>\n",
       "      <td>1.0</td>\n",
       "      <td>52.0</td>\n",
       "      <td>16.0</td>\n",
       "    </tr>\n",
       "    <tr>\n",
       "      <th>66</th>\n",
       "      <td>2022-12</td>\n",
       "      <td>IQ</td>\n",
       "      <td>0.00</td>\n",
       "      <td>NaN</td>\n",
       "      <td>0.0</td>\n",
       "      <td>99.0</td>\n",
       "      <td>14.0</td>\n",
       "    </tr>\n",
       "  </tbody>\n",
       "</table>\n",
       "<p>67 rows × 7 columns</p>\n",
       "</div>"
      ],
      "text/plain": [
       "      month  cc    a1   b1   c1    d1    d2\n",
       "0   2022-01  BR  0.00  0.2  0.0  73.0  22.0\n",
       "1   2022-01  CN  0.75  0.0  0.0  83.0  35.0\n",
       "2   2022-01  DE  0.06  0.3  0.0  70.0  20.0\n",
       "3   2022-01  IN  0.01  0.1  6.0  44.0  24.0\n",
       "4   2022-01  IQ  0.00  0.0  0.0  99.0  19.0\n",
       "..      ...  ..   ...  ...  ...   ...   ...\n",
       "62  2022-12  BR  0.00  NaN  0.0  77.0  18.0\n",
       "63  2022-12  CN  0.98  NaN  0.0  82.0  23.0\n",
       "64  2022-12  DE  0.00  NaN  0.0  74.0  17.0\n",
       "65  2022-12  IN  0.00  NaN  1.0  52.0  16.0\n",
       "66  2022-12  IQ  0.00  NaN  0.0  99.0  14.0\n",
       "\n",
       "[67 rows x 7 columns]"
      ]
     },
     "execution_count": 1168,
     "metadata": {},
     "output_type": "execute_result"
    }
   ],
   "source": [
    "mon_df"
   ]
  },
  {
   "cell_type": "code",
   "execution_count": 1169,
   "id": "275ec3c0-7d0d-4222-a962-cd07788d6c2e",
   "metadata": {},
   "outputs": [
    {
     "data": {
      "text/html": [
       "<div>\n",
       "<style scoped>\n",
       "    .dataframe tbody tr th:only-of-type {\n",
       "        vertical-align: middle;\n",
       "    }\n",
       "\n",
       "    .dataframe tbody tr th {\n",
       "        vertical-align: top;\n",
       "    }\n",
       "\n",
       "    .dataframe thead th {\n",
       "        text-align: right;\n",
       "    }\n",
       "</style>\n",
       "<table border=\"1\" class=\"dataframe\">\n",
       "  <thead>\n",
       "    <tr style=\"text-align: right;\">\n",
       "      <th></th>\n",
       "      <th>cc</th>\n",
       "      <th>a1</th>\n",
       "      <th>b1</th>\n",
       "      <th>c1</th>\n",
       "      <th>d1</th>\n",
       "      <th>d2</th>\n",
       "    </tr>\n",
       "  </thead>\n",
       "  <tbody>\n",
       "    <tr>\n",
       "      <th>0</th>\n",
       "      <td>BR</td>\n",
       "      <td>0.000000</td>\n",
       "      <td>0.200000</td>\n",
       "      <td>1.0</td>\n",
       "      <td>74.166667</td>\n",
       "      <td>19.833333</td>\n",
       "    </tr>\n",
       "    <tr>\n",
       "      <th>1</th>\n",
       "      <td>CN</td>\n",
       "      <td>0.609167</td>\n",
       "      <td>0.000000</td>\n",
       "      <td>0.0</td>\n",
       "      <td>82.250000</td>\n",
       "      <td>32.583333</td>\n",
       "    </tr>\n",
       "    <tr>\n",
       "      <th>2</th>\n",
       "      <td>DE</td>\n",
       "      <td>0.010000</td>\n",
       "      <td>0.385714</td>\n",
       "      <td>0.0</td>\n",
       "      <td>73.416667</td>\n",
       "      <td>19.083333</td>\n",
       "    </tr>\n",
       "    <tr>\n",
       "      <th>3</th>\n",
       "      <td>IN</td>\n",
       "      <td>0.001667</td>\n",
       "      <td>0.100000</td>\n",
       "      <td>42.0</td>\n",
       "      <td>45.916667</td>\n",
       "      <td>20.500000</td>\n",
       "    </tr>\n",
       "    <tr>\n",
       "      <th>4</th>\n",
       "      <td>IQ</td>\n",
       "      <td>0.000000</td>\n",
       "      <td>0.028571</td>\n",
       "      <td>7.0</td>\n",
       "      <td>99.833333</td>\n",
       "      <td>19.833333</td>\n",
       "    </tr>\n",
       "    <tr>\n",
       "      <th>5</th>\n",
       "      <td>RW</td>\n",
       "      <td>0.000000</td>\n",
       "      <td>0.025000</td>\n",
       "      <td>0.0</td>\n",
       "      <td>91.000000</td>\n",
       "      <td>25.571429</td>\n",
       "    </tr>\n",
       "  </tbody>\n",
       "</table>\n",
       "</div>"
      ],
      "text/plain": [
       "   cc        a1        b1    c1         d1         d2\n",
       "0  BR  0.000000  0.200000   1.0  74.166667  19.833333\n",
       "1  CN  0.609167  0.000000   0.0  82.250000  32.583333\n",
       "2  DE  0.010000  0.385714   0.0  73.416667  19.083333\n",
       "3  IN  0.001667  0.100000  42.0  45.916667  20.500000\n",
       "4  IQ  0.000000  0.028571   7.0  99.833333  19.833333\n",
       "5  RW  0.000000  0.025000   0.0  91.000000  25.571429"
      ]
     },
     "execution_count": 1169,
     "metadata": {},
     "output_type": "execute_result"
    }
   ],
   "source": [
    "ann_df"
   ]
  },
  {
   "cell_type": "code",
   "execution_count": 1170,
   "id": "7fc0e069-fd17-4ca2-9b02-128165e3943d",
   "metadata": {},
   "outputs": [],
   "source": [
    "def get_findex(tdf, index_type='year'):\n",
    "    df = tdf.copy()\n",
    "    \n",
    "    if index_type == 'mon':     \n",
    "        df['frag_index'] = round((df.sum(axis=1, numeric_only=True) / len(df.select_dtypes('number').columns)))\n",
    "        findex_df = df.copy()\n",
    "        findex_df = findex_df[['month', 'cc', 'frag_index']]\n",
    "        findex_df.sort_values(by=['frag_index'], inplace=True)\n",
    "        return findex_df\n",
    "    elif index_type == 'year':\n",
    "        df['frag_index'] = round((df.sum(axis=1, numeric_only=True) / len(df.select_dtypes('number').columns)))\n",
    "        findex_df = df.copy()\n",
    "        findex_df = findex_df[['cc', 'frag_index']]\n",
    "        findex_df.sort_values(by=['frag_index'], inplace=True)\n",
    "        return findex_df\n",
    "    elif index_type == 'total':\n",
    "        df['frag_index'] = round((df.sum(axis=1, numeric_only=True) / len(df.select_dtypes('number').columns)))\n",
    "        findex_df = df.copy()\n",
    "        findex_df = findex_df[['cc', 'frag_index']]     \n",
    "        gfn = len(findex_df)\n",
    "        global_findex = (findex_df['frag_index'].sum() / gfn)\n",
    "        return global_findex\n",
    "    "
   ]
  },
  {
   "cell_type": "code",
   "execution_count": 1171,
   "id": "95341041-3a99-47f3-a513-4218423dd4a6",
   "metadata": {},
   "outputs": [],
   "source": [
    "cc_ann_findex_tbl = get_findex(ann_df, 'year' )"
   ]
  },
  {
   "cell_type": "code",
   "execution_count": 1172,
   "id": "a2e2de44-8f8b-477c-8e15-8b2d9e61afa7",
   "metadata": {},
   "outputs": [
    {
     "data": {
      "text/html": [
       "<div>\n",
       "<style scoped>\n",
       "    .dataframe tbody tr th:only-of-type {\n",
       "        vertical-align: middle;\n",
       "    }\n",
       "\n",
       "    .dataframe tbody tr th {\n",
       "        vertical-align: top;\n",
       "    }\n",
       "\n",
       "    .dataframe thead th {\n",
       "        text-align: right;\n",
       "    }\n",
       "</style>\n",
       "<table border=\"1\" class=\"dataframe\">\n",
       "  <thead>\n",
       "    <tr style=\"text-align: right;\">\n",
       "      <th></th>\n",
       "      <th>cc</th>\n",
       "      <th>frag_index</th>\n",
       "    </tr>\n",
       "  </thead>\n",
       "  <tbody>\n",
       "    <tr>\n",
       "      <th>0</th>\n",
       "      <td>BR</td>\n",
       "      <td>19.0</td>\n",
       "    </tr>\n",
       "    <tr>\n",
       "      <th>2</th>\n",
       "      <td>DE</td>\n",
       "      <td>19.0</td>\n",
       "    </tr>\n",
       "    <tr>\n",
       "      <th>3</th>\n",
       "      <td>IN</td>\n",
       "      <td>22.0</td>\n",
       "    </tr>\n",
       "    <tr>\n",
       "      <th>1</th>\n",
       "      <td>CN</td>\n",
       "      <td>23.0</td>\n",
       "    </tr>\n",
       "    <tr>\n",
       "      <th>5</th>\n",
       "      <td>RW</td>\n",
       "      <td>23.0</td>\n",
       "    </tr>\n",
       "    <tr>\n",
       "      <th>4</th>\n",
       "      <td>IQ</td>\n",
       "      <td>25.0</td>\n",
       "    </tr>\n",
       "  </tbody>\n",
       "</table>\n",
       "</div>"
      ],
      "text/plain": [
       "   cc  frag_index\n",
       "0  BR        19.0\n",
       "2  DE        19.0\n",
       "3  IN        22.0\n",
       "1  CN        23.0\n",
       "5  RW        23.0\n",
       "4  IQ        25.0"
      ]
     },
     "execution_count": 1172,
     "metadata": {},
     "output_type": "execute_result"
    }
   ],
   "source": [
    "cc_ann_findex_tbl"
   ]
  },
  {
   "cell_type": "code",
   "execution_count": 1173,
   "id": "348772f8-40d7-4569-b862-838013ac824d",
   "metadata": {},
   "outputs": [],
   "source": [
    "cc_mon_findex_tbl = get_findex(mon_df,'mon')"
   ]
  },
  {
   "cell_type": "code",
   "execution_count": 1174,
   "id": "f664796a-f139-4c54-8fd8-d806e716b6da",
   "metadata": {},
   "outputs": [
    {
     "data": {
      "text/html": [
       "<div>\n",
       "<style scoped>\n",
       "    .dataframe tbody tr th:only-of-type {\n",
       "        vertical-align: middle;\n",
       "    }\n",
       "\n",
       "    .dataframe tbody tr th {\n",
       "        vertical-align: top;\n",
       "    }\n",
       "\n",
       "    .dataframe thead th {\n",
       "        text-align: right;\n",
       "    }\n",
       "</style>\n",
       "<table border=\"1\" class=\"dataframe\">\n",
       "  <thead>\n",
       "    <tr style=\"text-align: right;\">\n",
       "      <th></th>\n",
       "      <th>month</th>\n",
       "      <th>cc</th>\n",
       "      <th>frag_index</th>\n",
       "    </tr>\n",
       "  </thead>\n",
       "  <tbody>\n",
       "    <tr>\n",
       "      <th>53</th>\n",
       "      <td>2022-10</td>\n",
       "      <td>IN</td>\n",
       "      <td>13.0</td>\n",
       "    </tr>\n",
       "    <tr>\n",
       "      <th>37</th>\n",
       "      <td>2022-07</td>\n",
       "      <td>IN</td>\n",
       "      <td>13.0</td>\n",
       "    </tr>\n",
       "    <tr>\n",
       "      <th>48</th>\n",
       "      <td>2022-09</td>\n",
       "      <td>IN</td>\n",
       "      <td>13.0</td>\n",
       "    </tr>\n",
       "    <tr>\n",
       "      <th>20</th>\n",
       "      <td>2022-04</td>\n",
       "      <td>IN</td>\n",
       "      <td>14.0</td>\n",
       "    </tr>\n",
       "    <tr>\n",
       "      <th>14</th>\n",
       "      <td>2022-03</td>\n",
       "      <td>IN</td>\n",
       "      <td>14.0</td>\n",
       "    </tr>\n",
       "    <tr>\n",
       "      <th>...</th>\n",
       "      <td>...</td>\n",
       "      <td>...</td>\n",
       "      <td>...</td>\n",
       "    </tr>\n",
       "    <tr>\n",
       "      <th>27</th>\n",
       "      <td>2022-05</td>\n",
       "      <td>IQ</td>\n",
       "      <td>25.0</td>\n",
       "    </tr>\n",
       "    <tr>\n",
       "      <th>35</th>\n",
       "      <td>2022-07</td>\n",
       "      <td>CN</td>\n",
       "      <td>25.0</td>\n",
       "    </tr>\n",
       "    <tr>\n",
       "      <th>38</th>\n",
       "      <td>2022-07</td>\n",
       "      <td>IQ</td>\n",
       "      <td>25.0</td>\n",
       "    </tr>\n",
       "    <tr>\n",
       "      <th>15</th>\n",
       "      <td>2022-03</td>\n",
       "      <td>IQ</td>\n",
       "      <td>25.0</td>\n",
       "    </tr>\n",
       "    <tr>\n",
       "      <th>33</th>\n",
       "      <td>2022-06</td>\n",
       "      <td>IQ</td>\n",
       "      <td>26.0</td>\n",
       "    </tr>\n",
       "  </tbody>\n",
       "</table>\n",
       "<p>67 rows × 3 columns</p>\n",
       "</div>"
      ],
      "text/plain": [
       "      month  cc  frag_index\n",
       "53  2022-10  IN        13.0\n",
       "37  2022-07  IN        13.0\n",
       "48  2022-09  IN        13.0\n",
       "20  2022-04  IN        14.0\n",
       "14  2022-03  IN        14.0\n",
       "..      ...  ..         ...\n",
       "27  2022-05  IQ        25.0\n",
       "35  2022-07  CN        25.0\n",
       "38  2022-07  IQ        25.0\n",
       "15  2022-03  IQ        25.0\n",
       "33  2022-06  IQ        26.0\n",
       "\n",
       "[67 rows x 3 columns]"
      ]
     },
     "execution_count": 1174,
     "metadata": {},
     "output_type": "execute_result"
    }
   ],
   "source": [
    "cc_mon_findex_tbl"
   ]
  },
  {
   "cell_type": "code",
   "execution_count": 1175,
   "id": "0676d4f2-a1c5-4e29-8fa1-0e2ff2157ba6",
   "metadata": {},
   "outputs": [],
   "source": [
    "global_findex = get_findex(ann_df,'total')"
   ]
  },
  {
   "cell_type": "code",
   "execution_count": 1176,
   "id": "92fe615b-571c-4cae-a9c1-0e6ea6b2643e",
   "metadata": {},
   "outputs": [
    {
     "data": {
      "text/plain": [
       "21.833333333333332"
      ]
     },
     "execution_count": 1176,
     "metadata": {},
     "output_type": "execute_result"
    }
   ],
   "source": [
    "global_findex"
   ]
  },
  {
   "cell_type": "code",
   "execution_count": 1177,
   "id": "2e0fdf96-9990-4d2f-8218-04faeb79cd70",
   "metadata": {},
   "outputs": [
    {
     "data": {
      "application/vnd.plotly.v1+json": {
       "config": {
        "plotlyServerURL": "https://plot.ly"
       },
       "data": [
        {
         "cells": {
          "align": "left",
          "fill": {
           "color": "lavender"
          },
          "values": [
           [
            "BR",
            "DE",
            "IN",
            "CN",
            "RW",
            "IQ"
           ],
           [
            19,
            19,
            22,
            23,
            23,
            25
           ]
          ]
         },
         "header": {
          "align": "left",
          "fill": {
           "color": "paleturquoise"
          },
          "values": [
           "Country Code",
           "Fragmentation Index"
          ]
         },
         "type": "table"
        }
       ],
       "layout": {
        "autosize": true,
        "template": {
         "data": {
          "bar": [
           {
            "error_x": {
             "color": "#2a3f5f"
            },
            "error_y": {
             "color": "#2a3f5f"
            },
            "marker": {
             "line": {
              "color": "#E5ECF6",
              "width": 0.5
             },
             "pattern": {
              "fillmode": "overlay",
              "size": 10,
              "solidity": 0.2
             }
            },
            "type": "bar"
           }
          ],
          "barpolar": [
           {
            "marker": {
             "line": {
              "color": "#E5ECF6",
              "width": 0.5
             },
             "pattern": {
              "fillmode": "overlay",
              "size": 10,
              "solidity": 0.2
             }
            },
            "type": "barpolar"
           }
          ],
          "carpet": [
           {
            "aaxis": {
             "endlinecolor": "#2a3f5f",
             "gridcolor": "white",
             "linecolor": "white",
             "minorgridcolor": "white",
             "startlinecolor": "#2a3f5f"
            },
            "baxis": {
             "endlinecolor": "#2a3f5f",
             "gridcolor": "white",
             "linecolor": "white",
             "minorgridcolor": "white",
             "startlinecolor": "#2a3f5f"
            },
            "type": "carpet"
           }
          ],
          "choropleth": [
           {
            "colorbar": {
             "outlinewidth": 0,
             "ticks": ""
            },
            "type": "choropleth"
           }
          ],
          "contour": [
           {
            "colorbar": {
             "outlinewidth": 0,
             "ticks": ""
            },
            "colorscale": [
             [
              0,
              "#0d0887"
             ],
             [
              0.1111111111111111,
              "#46039f"
             ],
             [
              0.2222222222222222,
              "#7201a8"
             ],
             [
              0.3333333333333333,
              "#9c179e"
             ],
             [
              0.4444444444444444,
              "#bd3786"
             ],
             [
              0.5555555555555556,
              "#d8576b"
             ],
             [
              0.6666666666666666,
              "#ed7953"
             ],
             [
              0.7777777777777778,
              "#fb9f3a"
             ],
             [
              0.8888888888888888,
              "#fdca26"
             ],
             [
              1,
              "#f0f921"
             ]
            ],
            "type": "contour"
           }
          ],
          "contourcarpet": [
           {
            "colorbar": {
             "outlinewidth": 0,
             "ticks": ""
            },
            "type": "contourcarpet"
           }
          ],
          "heatmap": [
           {
            "colorbar": {
             "outlinewidth": 0,
             "ticks": ""
            },
            "colorscale": [
             [
              0,
              "#0d0887"
             ],
             [
              0.1111111111111111,
              "#46039f"
             ],
             [
              0.2222222222222222,
              "#7201a8"
             ],
             [
              0.3333333333333333,
              "#9c179e"
             ],
             [
              0.4444444444444444,
              "#bd3786"
             ],
             [
              0.5555555555555556,
              "#d8576b"
             ],
             [
              0.6666666666666666,
              "#ed7953"
             ],
             [
              0.7777777777777778,
              "#fb9f3a"
             ],
             [
              0.8888888888888888,
              "#fdca26"
             ],
             [
              1,
              "#f0f921"
             ]
            ],
            "type": "heatmap"
           }
          ],
          "heatmapgl": [
           {
            "colorbar": {
             "outlinewidth": 0,
             "ticks": ""
            },
            "colorscale": [
             [
              0,
              "#0d0887"
             ],
             [
              0.1111111111111111,
              "#46039f"
             ],
             [
              0.2222222222222222,
              "#7201a8"
             ],
             [
              0.3333333333333333,
              "#9c179e"
             ],
             [
              0.4444444444444444,
              "#bd3786"
             ],
             [
              0.5555555555555556,
              "#d8576b"
             ],
             [
              0.6666666666666666,
              "#ed7953"
             ],
             [
              0.7777777777777778,
              "#fb9f3a"
             ],
             [
              0.8888888888888888,
              "#fdca26"
             ],
             [
              1,
              "#f0f921"
             ]
            ],
            "type": "heatmapgl"
           }
          ],
          "histogram": [
           {
            "marker": {
             "pattern": {
              "fillmode": "overlay",
              "size": 10,
              "solidity": 0.2
             }
            },
            "type": "histogram"
           }
          ],
          "histogram2d": [
           {
            "colorbar": {
             "outlinewidth": 0,
             "ticks": ""
            },
            "colorscale": [
             [
              0,
              "#0d0887"
             ],
             [
              0.1111111111111111,
              "#46039f"
             ],
             [
              0.2222222222222222,
              "#7201a8"
             ],
             [
              0.3333333333333333,
              "#9c179e"
             ],
             [
              0.4444444444444444,
              "#bd3786"
             ],
             [
              0.5555555555555556,
              "#d8576b"
             ],
             [
              0.6666666666666666,
              "#ed7953"
             ],
             [
              0.7777777777777778,
              "#fb9f3a"
             ],
             [
              0.8888888888888888,
              "#fdca26"
             ],
             [
              1,
              "#f0f921"
             ]
            ],
            "type": "histogram2d"
           }
          ],
          "histogram2dcontour": [
           {
            "colorbar": {
             "outlinewidth": 0,
             "ticks": ""
            },
            "colorscale": [
             [
              0,
              "#0d0887"
             ],
             [
              0.1111111111111111,
              "#46039f"
             ],
             [
              0.2222222222222222,
              "#7201a8"
             ],
             [
              0.3333333333333333,
              "#9c179e"
             ],
             [
              0.4444444444444444,
              "#bd3786"
             ],
             [
              0.5555555555555556,
              "#d8576b"
             ],
             [
              0.6666666666666666,
              "#ed7953"
             ],
             [
              0.7777777777777778,
              "#fb9f3a"
             ],
             [
              0.8888888888888888,
              "#fdca26"
             ],
             [
              1,
              "#f0f921"
             ]
            ],
            "type": "histogram2dcontour"
           }
          ],
          "mesh3d": [
           {
            "colorbar": {
             "outlinewidth": 0,
             "ticks": ""
            },
            "type": "mesh3d"
           }
          ],
          "parcoords": [
           {
            "line": {
             "colorbar": {
              "outlinewidth": 0,
              "ticks": ""
             }
            },
            "type": "parcoords"
           }
          ],
          "pie": [
           {
            "automargin": true,
            "type": "pie"
           }
          ],
          "scatter": [
           {
            "marker": {
             "colorbar": {
              "outlinewidth": 0,
              "ticks": ""
             }
            },
            "type": "scatter"
           }
          ],
          "scatter3d": [
           {
            "line": {
             "colorbar": {
              "outlinewidth": 0,
              "ticks": ""
             }
            },
            "marker": {
             "colorbar": {
              "outlinewidth": 0,
              "ticks": ""
             }
            },
            "type": "scatter3d"
           }
          ],
          "scattercarpet": [
           {
            "marker": {
             "colorbar": {
              "outlinewidth": 0,
              "ticks": ""
             }
            },
            "type": "scattercarpet"
           }
          ],
          "scattergeo": [
           {
            "marker": {
             "colorbar": {
              "outlinewidth": 0,
              "ticks": ""
             }
            },
            "type": "scattergeo"
           }
          ],
          "scattergl": [
           {
            "marker": {
             "colorbar": {
              "outlinewidth": 0,
              "ticks": ""
             }
            },
            "type": "scattergl"
           }
          ],
          "scattermapbox": [
           {
            "marker": {
             "colorbar": {
              "outlinewidth": 0,
              "ticks": ""
             }
            },
            "type": "scattermapbox"
           }
          ],
          "scatterpolar": [
           {
            "marker": {
             "colorbar": {
              "outlinewidth": 0,
              "ticks": ""
             }
            },
            "type": "scatterpolar"
           }
          ],
          "scatterpolargl": [
           {
            "marker": {
             "colorbar": {
              "outlinewidth": 0,
              "ticks": ""
             }
            },
            "type": "scatterpolargl"
           }
          ],
          "scatterternary": [
           {
            "marker": {
             "colorbar": {
              "outlinewidth": 0,
              "ticks": ""
             }
            },
            "type": "scatterternary"
           }
          ],
          "surface": [
           {
            "colorbar": {
             "outlinewidth": 0,
             "ticks": ""
            },
            "colorscale": [
             [
              0,
              "#0d0887"
             ],
             [
              0.1111111111111111,
              "#46039f"
             ],
             [
              0.2222222222222222,
              "#7201a8"
             ],
             [
              0.3333333333333333,
              "#9c179e"
             ],
             [
              0.4444444444444444,
              "#bd3786"
             ],
             [
              0.5555555555555556,
              "#d8576b"
             ],
             [
              0.6666666666666666,
              "#ed7953"
             ],
             [
              0.7777777777777778,
              "#fb9f3a"
             ],
             [
              0.8888888888888888,
              "#fdca26"
             ],
             [
              1,
              "#f0f921"
             ]
            ],
            "type": "surface"
           }
          ],
          "table": [
           {
            "cells": {
             "fill": {
              "color": "#EBF0F8"
             },
             "line": {
              "color": "white"
             }
            },
            "header": {
             "fill": {
              "color": "#C8D4E3"
             },
             "line": {
              "color": "white"
             }
            },
            "type": "table"
           }
          ]
         },
         "layout": {
          "annotationdefaults": {
           "arrowcolor": "#2a3f5f",
           "arrowhead": 0,
           "arrowwidth": 1
          },
          "autotypenumbers": "strict",
          "coloraxis": {
           "colorbar": {
            "outlinewidth": 0,
            "ticks": ""
           }
          },
          "colorscale": {
           "diverging": [
            [
             0,
             "#8e0152"
            ],
            [
             0.1,
             "#c51b7d"
            ],
            [
             0.2,
             "#de77ae"
            ],
            [
             0.3,
             "#f1b6da"
            ],
            [
             0.4,
             "#fde0ef"
            ],
            [
             0.5,
             "#f7f7f7"
            ],
            [
             0.6,
             "#e6f5d0"
            ],
            [
             0.7,
             "#b8e186"
            ],
            [
             0.8,
             "#7fbc41"
            ],
            [
             0.9,
             "#4d9221"
            ],
            [
             1,
             "#276419"
            ]
           ],
           "sequential": [
            [
             0,
             "#0d0887"
            ],
            [
             0.1111111111111111,
             "#46039f"
            ],
            [
             0.2222222222222222,
             "#7201a8"
            ],
            [
             0.3333333333333333,
             "#9c179e"
            ],
            [
             0.4444444444444444,
             "#bd3786"
            ],
            [
             0.5555555555555556,
             "#d8576b"
            ],
            [
             0.6666666666666666,
             "#ed7953"
            ],
            [
             0.7777777777777778,
             "#fb9f3a"
            ],
            [
             0.8888888888888888,
             "#fdca26"
            ],
            [
             1,
             "#f0f921"
            ]
           ],
           "sequentialminus": [
            [
             0,
             "#0d0887"
            ],
            [
             0.1111111111111111,
             "#46039f"
            ],
            [
             0.2222222222222222,
             "#7201a8"
            ],
            [
             0.3333333333333333,
             "#9c179e"
            ],
            [
             0.4444444444444444,
             "#bd3786"
            ],
            [
             0.5555555555555556,
             "#d8576b"
            ],
            [
             0.6666666666666666,
             "#ed7953"
            ],
            [
             0.7777777777777778,
             "#fb9f3a"
            ],
            [
             0.8888888888888888,
             "#fdca26"
            ],
            [
             1,
             "#f0f921"
            ]
           ]
          },
          "colorway": [
           "#636efa",
           "#EF553B",
           "#00cc96",
           "#ab63fa",
           "#FFA15A",
           "#19d3f3",
           "#FF6692",
           "#B6E880",
           "#FF97FF",
           "#FECB52"
          ],
          "font": {
           "color": "#2a3f5f"
          },
          "geo": {
           "bgcolor": "white",
           "lakecolor": "white",
           "landcolor": "#E5ECF6",
           "showlakes": true,
           "showland": true,
           "subunitcolor": "white"
          },
          "hoverlabel": {
           "align": "left"
          },
          "hovermode": "closest",
          "mapbox": {
           "style": "light"
          },
          "paper_bgcolor": "white",
          "plot_bgcolor": "#E5ECF6",
          "polar": {
           "angularaxis": {
            "gridcolor": "white",
            "linecolor": "white",
            "ticks": ""
           },
           "bgcolor": "#E5ECF6",
           "radialaxis": {
            "gridcolor": "white",
            "linecolor": "white",
            "ticks": ""
           }
          },
          "scene": {
           "xaxis": {
            "backgroundcolor": "#E5ECF6",
            "gridcolor": "white",
            "gridwidth": 2,
            "linecolor": "white",
            "showbackground": true,
            "ticks": "",
            "zerolinecolor": "white"
           },
           "yaxis": {
            "backgroundcolor": "#E5ECF6",
            "gridcolor": "white",
            "gridwidth": 2,
            "linecolor": "white",
            "showbackground": true,
            "ticks": "",
            "zerolinecolor": "white"
           },
           "zaxis": {
            "backgroundcolor": "#E5ECF6",
            "gridcolor": "white",
            "gridwidth": 2,
            "linecolor": "white",
            "showbackground": true,
            "ticks": "",
            "zerolinecolor": "white"
           }
          },
          "shapedefaults": {
           "line": {
            "color": "#2a3f5f"
           }
          },
          "ternary": {
           "aaxis": {
            "gridcolor": "white",
            "linecolor": "white",
            "ticks": ""
           },
           "baxis": {
            "gridcolor": "white",
            "linecolor": "white",
            "ticks": ""
           },
           "bgcolor": "#E5ECF6",
           "caxis": {
            "gridcolor": "white",
            "linecolor": "white",
            "ticks": ""
           }
          },
          "title": {
           "x": 0.05
          },
          "xaxis": {
           "automargin": true,
           "gridcolor": "white",
           "linecolor": "white",
           "ticks": "",
           "title": {
            "standoff": 15
           },
           "zerolinecolor": "white",
           "zerolinewidth": 2
          },
          "yaxis": {
           "automargin": true,
           "gridcolor": "white",
           "linecolor": "white",
           "ticks": "",
           "title": {
            "standoff": 15
           },
           "zerolinecolor": "white",
           "zerolinewidth": 2
          }
         }
        }
       }
      },
      "text/html": [
       "<div>                            <div id=\"a2ab9471-510a-4bbd-8eea-5efe6cb33367\" class=\"plotly-graph-div\" style=\"height:525px; width:100%;\"></div>            <script type=\"text/javascript\">                require([\"plotly\"], function(Plotly) {                    window.PLOTLYENV=window.PLOTLYENV || {};                                    if (document.getElementById(\"a2ab9471-510a-4bbd-8eea-5efe6cb33367\")) {                    Plotly.newPlot(                        \"a2ab9471-510a-4bbd-8eea-5efe6cb33367\",                        [{\"cells\":{\"align\":\"left\",\"fill\":{\"color\":\"lavender\"},\"values\":[[\"BR\",\"DE\",\"IN\",\"CN\",\"RW\",\"IQ\"],[19.0,19.0,22.0,23.0,23.0,25.0]]},\"header\":{\"align\":\"left\",\"fill\":{\"color\":\"paleturquoise\"},\"values\":[\"Country Code\",\"Fragmentation Index\"]},\"type\":\"table\"}],                        {\"template\":{\"data\":{\"bar\":[{\"error_x\":{\"color\":\"#2a3f5f\"},\"error_y\":{\"color\":\"#2a3f5f\"},\"marker\":{\"line\":{\"color\":\"#E5ECF6\",\"width\":0.5},\"pattern\":{\"fillmode\":\"overlay\",\"size\":10,\"solidity\":0.2}},\"type\":\"bar\"}],\"barpolar\":[{\"marker\":{\"line\":{\"color\":\"#E5ECF6\",\"width\":0.5},\"pattern\":{\"fillmode\":\"overlay\",\"size\":10,\"solidity\":0.2}},\"type\":\"barpolar\"}],\"carpet\":[{\"aaxis\":{\"endlinecolor\":\"#2a3f5f\",\"gridcolor\":\"white\",\"linecolor\":\"white\",\"minorgridcolor\":\"white\",\"startlinecolor\":\"#2a3f5f\"},\"baxis\":{\"endlinecolor\":\"#2a3f5f\",\"gridcolor\":\"white\",\"linecolor\":\"white\",\"minorgridcolor\":\"white\",\"startlinecolor\":\"#2a3f5f\"},\"type\":\"carpet\"}],\"choropleth\":[{\"colorbar\":{\"outlinewidth\":0,\"ticks\":\"\"},\"type\":\"choropleth\"}],\"contour\":[{\"colorbar\":{\"outlinewidth\":0,\"ticks\":\"\"},\"colorscale\":[[0.0,\"#0d0887\"],[0.1111111111111111,\"#46039f\"],[0.2222222222222222,\"#7201a8\"],[0.3333333333333333,\"#9c179e\"],[0.4444444444444444,\"#bd3786\"],[0.5555555555555556,\"#d8576b\"],[0.6666666666666666,\"#ed7953\"],[0.7777777777777778,\"#fb9f3a\"],[0.8888888888888888,\"#fdca26\"],[1.0,\"#f0f921\"]],\"type\":\"contour\"}],\"contourcarpet\":[{\"colorbar\":{\"outlinewidth\":0,\"ticks\":\"\"},\"type\":\"contourcarpet\"}],\"heatmap\":[{\"colorbar\":{\"outlinewidth\":0,\"ticks\":\"\"},\"colorscale\":[[0.0,\"#0d0887\"],[0.1111111111111111,\"#46039f\"],[0.2222222222222222,\"#7201a8\"],[0.3333333333333333,\"#9c179e\"],[0.4444444444444444,\"#bd3786\"],[0.5555555555555556,\"#d8576b\"],[0.6666666666666666,\"#ed7953\"],[0.7777777777777778,\"#fb9f3a\"],[0.8888888888888888,\"#fdca26\"],[1.0,\"#f0f921\"]],\"type\":\"heatmap\"}],\"heatmapgl\":[{\"colorbar\":{\"outlinewidth\":0,\"ticks\":\"\"},\"colorscale\":[[0.0,\"#0d0887\"],[0.1111111111111111,\"#46039f\"],[0.2222222222222222,\"#7201a8\"],[0.3333333333333333,\"#9c179e\"],[0.4444444444444444,\"#bd3786\"],[0.5555555555555556,\"#d8576b\"],[0.6666666666666666,\"#ed7953\"],[0.7777777777777778,\"#fb9f3a\"],[0.8888888888888888,\"#fdca26\"],[1.0,\"#f0f921\"]],\"type\":\"heatmapgl\"}],\"histogram\":[{\"marker\":{\"pattern\":{\"fillmode\":\"overlay\",\"size\":10,\"solidity\":0.2}},\"type\":\"histogram\"}],\"histogram2d\":[{\"colorbar\":{\"outlinewidth\":0,\"ticks\":\"\"},\"colorscale\":[[0.0,\"#0d0887\"],[0.1111111111111111,\"#46039f\"],[0.2222222222222222,\"#7201a8\"],[0.3333333333333333,\"#9c179e\"],[0.4444444444444444,\"#bd3786\"],[0.5555555555555556,\"#d8576b\"],[0.6666666666666666,\"#ed7953\"],[0.7777777777777778,\"#fb9f3a\"],[0.8888888888888888,\"#fdca26\"],[1.0,\"#f0f921\"]],\"type\":\"histogram2d\"}],\"histogram2dcontour\":[{\"colorbar\":{\"outlinewidth\":0,\"ticks\":\"\"},\"colorscale\":[[0.0,\"#0d0887\"],[0.1111111111111111,\"#46039f\"],[0.2222222222222222,\"#7201a8\"],[0.3333333333333333,\"#9c179e\"],[0.4444444444444444,\"#bd3786\"],[0.5555555555555556,\"#d8576b\"],[0.6666666666666666,\"#ed7953\"],[0.7777777777777778,\"#fb9f3a\"],[0.8888888888888888,\"#fdca26\"],[1.0,\"#f0f921\"]],\"type\":\"histogram2dcontour\"}],\"mesh3d\":[{\"colorbar\":{\"outlinewidth\":0,\"ticks\":\"\"},\"type\":\"mesh3d\"}],\"parcoords\":[{\"line\":{\"colorbar\":{\"outlinewidth\":0,\"ticks\":\"\"}},\"type\":\"parcoords\"}],\"pie\":[{\"automargin\":true,\"type\":\"pie\"}],\"scatter\":[{\"marker\":{\"colorbar\":{\"outlinewidth\":0,\"ticks\":\"\"}},\"type\":\"scatter\"}],\"scatter3d\":[{\"line\":{\"colorbar\":{\"outlinewidth\":0,\"ticks\":\"\"}},\"marker\":{\"colorbar\":{\"outlinewidth\":0,\"ticks\":\"\"}},\"type\":\"scatter3d\"}],\"scattercarpet\":[{\"marker\":{\"colorbar\":{\"outlinewidth\":0,\"ticks\":\"\"}},\"type\":\"scattercarpet\"}],\"scattergeo\":[{\"marker\":{\"colorbar\":{\"outlinewidth\":0,\"ticks\":\"\"}},\"type\":\"scattergeo\"}],\"scattergl\":[{\"marker\":{\"colorbar\":{\"outlinewidth\":0,\"ticks\":\"\"}},\"type\":\"scattergl\"}],\"scattermapbox\":[{\"marker\":{\"colorbar\":{\"outlinewidth\":0,\"ticks\":\"\"}},\"type\":\"scattermapbox\"}],\"scatterpolar\":[{\"marker\":{\"colorbar\":{\"outlinewidth\":0,\"ticks\":\"\"}},\"type\":\"scatterpolar\"}],\"scatterpolargl\":[{\"marker\":{\"colorbar\":{\"outlinewidth\":0,\"ticks\":\"\"}},\"type\":\"scatterpolargl\"}],\"scatterternary\":[{\"marker\":{\"colorbar\":{\"outlinewidth\":0,\"ticks\":\"\"}},\"type\":\"scatterternary\"}],\"surface\":[{\"colorbar\":{\"outlinewidth\":0,\"ticks\":\"\"},\"colorscale\":[[0.0,\"#0d0887\"],[0.1111111111111111,\"#46039f\"],[0.2222222222222222,\"#7201a8\"],[0.3333333333333333,\"#9c179e\"],[0.4444444444444444,\"#bd3786\"],[0.5555555555555556,\"#d8576b\"],[0.6666666666666666,\"#ed7953\"],[0.7777777777777778,\"#fb9f3a\"],[0.8888888888888888,\"#fdca26\"],[1.0,\"#f0f921\"]],\"type\":\"surface\"}],\"table\":[{\"cells\":{\"fill\":{\"color\":\"#EBF0F8\"},\"line\":{\"color\":\"white\"}},\"header\":{\"fill\":{\"color\":\"#C8D4E3\"},\"line\":{\"color\":\"white\"}},\"type\":\"table\"}]},\"layout\":{\"annotationdefaults\":{\"arrowcolor\":\"#2a3f5f\",\"arrowhead\":0,\"arrowwidth\":1},\"autotypenumbers\":\"strict\",\"coloraxis\":{\"colorbar\":{\"outlinewidth\":0,\"ticks\":\"\"}},\"colorscale\":{\"diverging\":[[0,\"#8e0152\"],[0.1,\"#c51b7d\"],[0.2,\"#de77ae\"],[0.3,\"#f1b6da\"],[0.4,\"#fde0ef\"],[0.5,\"#f7f7f7\"],[0.6,\"#e6f5d0\"],[0.7,\"#b8e186\"],[0.8,\"#7fbc41\"],[0.9,\"#4d9221\"],[1,\"#276419\"]],\"sequential\":[[0.0,\"#0d0887\"],[0.1111111111111111,\"#46039f\"],[0.2222222222222222,\"#7201a8\"],[0.3333333333333333,\"#9c179e\"],[0.4444444444444444,\"#bd3786\"],[0.5555555555555556,\"#d8576b\"],[0.6666666666666666,\"#ed7953\"],[0.7777777777777778,\"#fb9f3a\"],[0.8888888888888888,\"#fdca26\"],[1.0,\"#f0f921\"]],\"sequentialminus\":[[0.0,\"#0d0887\"],[0.1111111111111111,\"#46039f\"],[0.2222222222222222,\"#7201a8\"],[0.3333333333333333,\"#9c179e\"],[0.4444444444444444,\"#bd3786\"],[0.5555555555555556,\"#d8576b\"],[0.6666666666666666,\"#ed7953\"],[0.7777777777777778,\"#fb9f3a\"],[0.8888888888888888,\"#fdca26\"],[1.0,\"#f0f921\"]]},\"colorway\":[\"#636efa\",\"#EF553B\",\"#00cc96\",\"#ab63fa\",\"#FFA15A\",\"#19d3f3\",\"#FF6692\",\"#B6E880\",\"#FF97FF\",\"#FECB52\"],\"font\":{\"color\":\"#2a3f5f\"},\"geo\":{\"bgcolor\":\"white\",\"lakecolor\":\"white\",\"landcolor\":\"#E5ECF6\",\"showlakes\":true,\"showland\":true,\"subunitcolor\":\"white\"},\"hoverlabel\":{\"align\":\"left\"},\"hovermode\":\"closest\",\"mapbox\":{\"style\":\"light\"},\"paper_bgcolor\":\"white\",\"plot_bgcolor\":\"#E5ECF6\",\"polar\":{\"angularaxis\":{\"gridcolor\":\"white\",\"linecolor\":\"white\",\"ticks\":\"\"},\"bgcolor\":\"#E5ECF6\",\"radialaxis\":{\"gridcolor\":\"white\",\"linecolor\":\"white\",\"ticks\":\"\"}},\"scene\":{\"xaxis\":{\"backgroundcolor\":\"#E5ECF6\",\"gridcolor\":\"white\",\"gridwidth\":2,\"linecolor\":\"white\",\"showbackground\":true,\"ticks\":\"\",\"zerolinecolor\":\"white\"},\"yaxis\":{\"backgroundcolor\":\"#E5ECF6\",\"gridcolor\":\"white\",\"gridwidth\":2,\"linecolor\":\"white\",\"showbackground\":true,\"ticks\":\"\",\"zerolinecolor\":\"white\"},\"zaxis\":{\"backgroundcolor\":\"#E5ECF6\",\"gridcolor\":\"white\",\"gridwidth\":2,\"linecolor\":\"white\",\"showbackground\":true,\"ticks\":\"\",\"zerolinecolor\":\"white\"}},\"shapedefaults\":{\"line\":{\"color\":\"#2a3f5f\"}},\"ternary\":{\"aaxis\":{\"gridcolor\":\"white\",\"linecolor\":\"white\",\"ticks\":\"\"},\"baxis\":{\"gridcolor\":\"white\",\"linecolor\":\"white\",\"ticks\":\"\"},\"bgcolor\":\"#E5ECF6\",\"caxis\":{\"gridcolor\":\"white\",\"linecolor\":\"white\",\"ticks\":\"\"}},\"title\":{\"x\":0.05},\"xaxis\":{\"automargin\":true,\"gridcolor\":\"white\",\"linecolor\":\"white\",\"ticks\":\"\",\"title\":{\"standoff\":15},\"zerolinecolor\":\"white\",\"zerolinewidth\":2},\"yaxis\":{\"automargin\":true,\"gridcolor\":\"white\",\"linecolor\":\"white\",\"ticks\":\"\",\"title\":{\"standoff\":15},\"zerolinecolor\":\"white\",\"zerolinewidth\":2}}}},                        {\"responsive\": true}                    ).then(function(){\n",
       "                            \n",
       "var gd = document.getElementById('a2ab9471-510a-4bbd-8eea-5efe6cb33367');\n",
       "var x = new MutationObserver(function (mutations, observer) {{\n",
       "        var display = window.getComputedStyle(gd).display;\n",
       "        if (!display || display === 'none') {{\n",
       "            console.log([gd, 'removed!']);\n",
       "            Plotly.purge(gd);\n",
       "            observer.disconnect();\n",
       "        }}\n",
       "}});\n",
       "\n",
       "// Listen for the removal of the full notebook cells\n",
       "var notebookContainer = gd.closest('#notebook-container');\n",
       "if (notebookContainer) {{\n",
       "    x.observe(notebookContainer, {childList: true});\n",
       "}}\n",
       "\n",
       "// Listen for the clearing of the current output cell\n",
       "var outputEl = gd.closest('.output');\n",
       "if (outputEl) {{\n",
       "    x.observe(outputEl, {childList: true});\n",
       "}}\n",
       "\n",
       "                        })                };                });            </script>        </div>"
      ]
     },
     "metadata": {},
     "output_type": "display_data"
    }
   ],
   "source": [
    "fig = go.Figure(data=[go.Table(\n",
    "    header=dict(values=['Country Code', 'Fragmentation Index'],\n",
    "                fill_color='paleturquoise',\n",
    "                align='left'),\n",
    "    cells=dict(values=cc_ann_findex_tbl.transpose().values.tolist(),\n",
    "               fill_color='lavender',\n",
    "               align='left'))\n",
    "])\n",
    "\n",
    "fig.show()"
   ]
  },
  {
   "cell_type": "code",
   "execution_count": 1021,
   "id": "87efc5c2-d371-467b-b2c7-ef428c60174a",
   "metadata": {},
   "outputs": [],
   "source": [
    "def plot_graph(df):\n",
    "    fig = px.line(df, x=\"month\", y=\"frag_index\", color=\"cc\", hover_data=['frag_index'], template='simple_white')\n",
    "    #fig.update_xaxes(dtick=\"M1\", tickformat=\"%b\\n%Y\")\n",
    "    fig.show()"
   ]
  },
  {
   "cell_type": "code",
   "execution_count": null,
   "id": "b3e7ba98-7647-4716-bdbd-945b402ce5f1",
   "metadata": {},
   "outputs": [],
   "source": [
    "plot_line_graph(cc_mon_findex_tbl)"
   ]
  },
  {
   "cell_type": "code",
   "execution_count": 996,
   "id": "8e7b9f89-57e3-4e17-810d-cd564563fcfe",
   "metadata": {},
   "outputs": [],
   "source": [
    "fotn_filepath = \"/Users/coes3/phd-labs/fraganal/data_source/FOTN_2022_Country_Score_Data.xlsx\""
   ]
  },
  {
   "cell_type": "code",
   "execution_count": 997,
   "id": "bbc01e8c-a75f-48dc-89be-7d170e147669",
   "metadata": {},
   "outputs": [],
   "source": [
    "def fotn_score(path):\n",
    "    def note(df):\n",
    "        if df.Status == 'PF':\n",
    "            return 'Partially Free'\n",
    "        elif df.Status == 'NF':\n",
    "            return 'Not Free'\n",
    "        else:\n",
    "            return 'Free'\n",
    "\n",
    "    df = pd.read_excel(path, header=1, usecols=\"A:C, AB\", engine='openpyxl')\n",
    "\n",
    "    cc_df = pd.read_csv(c1_filepath)\n",
    "    df = df.join(cc_df.set_index('Name'), on='Country')\n",
    "    df.rename(columns = {'Code':'cc'}, inplace = True)\n",
    "\n",
    "    cc_list = ['CN','BR','DE','IN','IQ', 'RW']\n",
    "    df = df[df['cc'].isin(cc_list)]\n",
    "    #df['description'] = df.apply(note, axis=1)\n",
    "\n",
    "    #Add country code ISO alpha2\n",
    "    #Join country name to df\n",
    "    #cc_df = pd.read_csv(filepath_or_buffer=\"gs://etl-tooling/fotn_country_list.csv\", storage_options={\"token\": credentials})\n",
    "    #df = df.join(cc_df.set_index('Name'), on='Country')\n",
    "\n",
    "    #df.rename(columns = {'Code':'country_code'}, inplace = True)\n",
    "    #df.columns = df.columns.str.lower()\n",
    "    #df = df[['country', 'country_code', 'edition', 'status', 'description', 'total']]\n",
    "    return df"
   ]
  },
  {
   "cell_type": "markdown",
   "id": "5bc80e35-ac26-45ec-87bf-b5d99112c41a",
   "metadata": {},
   "source": [
    "Compare with FOTN Score and state"
   ]
  },
  {
   "cell_type": "code",
   "execution_count": 1150,
   "id": "0119ed53-d68b-4e1f-9f9d-d99a85de9e15",
   "metadata": {},
   "outputs": [],
   "source": [
    "fotn_df = fotn_score(fotn_filepath)"
   ]
  },
  {
   "cell_type": "code",
   "execution_count": 1178,
   "id": "d5a006e2-dbdf-4996-9215-d0a777d05f69",
   "metadata": {},
   "outputs": [],
   "source": [
    "cc_ann_findex_tbl = cc_ann_findex_tbl.join(fotn_df.set_index('cc'), on='cc')"
   ]
  },
  {
   "cell_type": "code",
   "execution_count": 1179,
   "id": "879db147-ff34-437e-8cfd-c88d872679e2",
   "metadata": {},
   "outputs": [
    {
     "data": {
      "text/html": [
       "<div>\n",
       "<style scoped>\n",
       "    .dataframe tbody tr th:only-of-type {\n",
       "        vertical-align: middle;\n",
       "    }\n",
       "\n",
       "    .dataframe tbody tr th {\n",
       "        vertical-align: top;\n",
       "    }\n",
       "\n",
       "    .dataframe thead th {\n",
       "        text-align: right;\n",
       "    }\n",
       "</style>\n",
       "<table border=\"1\" class=\"dataframe\">\n",
       "  <thead>\n",
       "    <tr style=\"text-align: right;\">\n",
       "      <th></th>\n",
       "      <th>cc</th>\n",
       "      <th>frag_index</th>\n",
       "      <th>Country</th>\n",
       "      <th>Edition</th>\n",
       "      <th>Status</th>\n",
       "      <th>Total</th>\n",
       "    </tr>\n",
       "  </thead>\n",
       "  <tbody>\n",
       "    <tr>\n",
       "      <th>0</th>\n",
       "      <td>BR</td>\n",
       "      <td>19.0</td>\n",
       "      <td>Brazil</td>\n",
       "      <td>2022</td>\n",
       "      <td>PF</td>\n",
       "      <td>65</td>\n",
       "    </tr>\n",
       "    <tr>\n",
       "      <th>2</th>\n",
       "      <td>DE</td>\n",
       "      <td>19.0</td>\n",
       "      <td>Germany</td>\n",
       "      <td>2022</td>\n",
       "      <td>F</td>\n",
       "      <td>77</td>\n",
       "    </tr>\n",
       "    <tr>\n",
       "      <th>3</th>\n",
       "      <td>IN</td>\n",
       "      <td>22.0</td>\n",
       "      <td>India</td>\n",
       "      <td>2022</td>\n",
       "      <td>PF</td>\n",
       "      <td>51</td>\n",
       "    </tr>\n",
       "    <tr>\n",
       "      <th>1</th>\n",
       "      <td>CN</td>\n",
       "      <td>23.0</td>\n",
       "      <td>China</td>\n",
       "      <td>2022</td>\n",
       "      <td>NF</td>\n",
       "      <td>10</td>\n",
       "    </tr>\n",
       "    <tr>\n",
       "      <th>5</th>\n",
       "      <td>RW</td>\n",
       "      <td>23.0</td>\n",
       "      <td>Rwanda</td>\n",
       "      <td>2022</td>\n",
       "      <td>NF</td>\n",
       "      <td>37</td>\n",
       "    </tr>\n",
       "    <tr>\n",
       "      <th>4</th>\n",
       "      <td>IQ</td>\n",
       "      <td>25.0</td>\n",
       "      <td>Iraq</td>\n",
       "      <td>2022</td>\n",
       "      <td>PF</td>\n",
       "      <td>42</td>\n",
       "    </tr>\n",
       "  </tbody>\n",
       "</table>\n",
       "</div>"
      ],
      "text/plain": [
       "   cc  frag_index  Country  Edition Status  Total\n",
       "0  BR        19.0   Brazil     2022     PF     65\n",
       "2  DE        19.0  Germany     2022      F     77\n",
       "3  IN        22.0    India     2022     PF     51\n",
       "1  CN        23.0    China     2022     NF     10\n",
       "5  RW        23.0   Rwanda     2022     NF     37\n",
       "4  IQ        25.0     Iraq     2022     PF     42"
      ]
     },
     "execution_count": 1179,
     "metadata": {},
     "output_type": "execute_result"
    }
   ],
   "source": [
    "cc_ann_findex_tbl"
   ]
  },
  {
   "cell_type": "code",
   "execution_count": null,
   "id": "f2e8a4b5-819b-44fd-ab80-04cca418cf62",
   "metadata": {},
   "outputs": [],
   "source": []
  }
 ],
 "metadata": {
  "kernelspec": {
   "display_name": "Python 3 (ipykernel)",
   "language": "python",
   "name": "python3"
  },
  "language_info": {
   "codemirror_mode": {
    "name": "ipython",
    "version": 3
   },
   "file_extension": ".py",
   "mimetype": "text/x-python",
   "name": "python",
   "nbconvert_exporter": "python",
   "pygments_lexer": "ipython3",
   "version": "3.9.12"
  }
 },
 "nbformat": 4,
 "nbformat_minor": 5
}
