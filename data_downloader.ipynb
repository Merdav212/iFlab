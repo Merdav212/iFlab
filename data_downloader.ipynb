{
 "cells": [
  {
   "cell_type": "code",
   "execution_count": 7,
   "id": "7bd5f8c8-ed93-4e0a-8542-3d9f5442a1d5",
   "metadata": {},
   "outputs": [],
   "source": [
    "import requests\n",
    "import json\n",
    "import pandas as pd\n",
    "from pathlib import Path"
   ]
  },
  {
   "cell_type": "code",
   "execution_count": null,
   "id": "333da3fa-8d37-40a7-a3b4-bc99b5a74162",
   "metadata": {},
   "outputs": [],
   "source": []
  },
  {
   "cell_type": "code",
   "execution_count": 143,
   "id": "8a5fc0b8-7062-4020-8ebd-a83874e5ec9c",
   "metadata": {},
   "outputs": [],
   "source": [
    "ex_cc_list = ['VG', 'KN', 'ER', 'PW', 'TC', 'FM', 'SX', 'PN', 'DM', 'BL', 'GS', 'MS', 'AI', 'VU', 'TK', 'CX', 'GI', 'NF', 'WF', 'AQ', 'NR'\n",
    "              'AX', 'SH', 'KP', 'EH', 'GW', 'UM', 'VA', 'PM', 'BV', 'GQ', 'MH', 'WS', 'ZA', 'SM', 'AS', 'FK', 'TF', 'NU', 'KI', 'VI', 'IO',\n",
    "               'SJ', 'BM', 'HM', 'TO', 'TV', 'MF','CK', 'MP','NR', 'AX']"
   ]
  },
  {
   "cell_type": "code",
   "execution_count": 144,
   "id": "7b85fbd3-729c-450a-a993-1f071f2b8b0f",
   "metadata": {},
   "outputs": [],
   "source": [
    "cc_filepath = \"/Users/coes3/phd-labs/fraganal/data_source/cc_alpha2_3.csv\"\n",
    "cc_df = pd.read_csv(cc_filepath)\n",
    "t_cc = cc_df['alpha-2'].to_list()"
   ]
  },
  {
   "cell_type": "code",
   "execution_count": 145,
   "id": "5886ffcb-3f2e-4ecd-8f28-48026e8dd5a7",
   "metadata": {},
   "outputs": [
    {
     "data": {
      "text/plain": [
       "nan"
      ]
     },
     "execution_count": 145,
     "metadata": {},
     "output_type": "execute_result"
    }
   ],
   "source": [
    "cc = list(set(t_cc).difference(ex_cc_list))\n",
    "cc.pop(0)"
   ]
  },
  {
   "cell_type": "code",
   "execution_count": 2,
   "id": "9d7234ad-2800-463b-babf-8436cbe79e90",
   "metadata": {},
   "outputs": [],
   "source": [
    "proto = 'tls_version'\n",
    "#ip_version\n",
    "cc = 'BR'"
   ]
  },
  {
   "cell_type": "code",
   "execution_count": 22,
   "id": "8a6c5aa0-4a99-49b4-8f36-ea422b9af804",
   "metadata": {},
   "outputs": [],
   "source": [
    "def download_radar(proto, cc):\n",
    "    url = f\"https://api.cloudflare.com/client/v4/radar/http/timeseries/{proto}?dateStart=2022-01-01&dateEnd=2022-12-31&location={cc}&format=csv\"\n",
    "    payload = {}\n",
    "    headers = {\n",
    "      'X-Auth-Email': 'edsland@gmail.com',\n",
    "      'X-Auth-Key': '9e244d85618b64e8e9024105880368e0c3f9c',\n",
    "      'Content-Type': 'application/json'\n",
    "    }\n",
    "    \n",
    "    try:\n",
    "        response = requests.request(\"GET\", url, headers=headers, data=payload)\n",
    "        response.raise_for_status()\n",
    "        filename = f'{proto}_2022_{cc}.csv'\n",
    "        filepath = f'./data_source/radar/{proto}/'\n",
    "        with open(f\"{filepath}{filename}\", \"w\") as f:\n",
    "            f.write(response.text)\n",
    "            f.close()\n",
    "           \n",
    "    except requests.exceptions.HTTPError as errh:\n",
    "        print (\"Http Error:\",errh)\n"
   ]
  },
  {
   "cell_type": "code",
   "execution_count": 23,
   "id": "4b93e12e-9065-4ed3-a7e6-8bcab8534278",
   "metadata": {},
   "outputs": [],
   "source": [
    "download_radar(proto, cc)"
   ]
  },
  {
   "cell_type": "code",
   "execution_count": 35,
   "id": "cec14a39-accd-4179-9313-e0cdc4227775",
   "metadata": {},
   "outputs": [],
   "source": [
    "proto = 'ip_version'\n",
    "\n",
    "for i in cc:\n",
    "    download_radar(proto, i)"
   ]
  },
  {
   "cell_type": "code",
   "execution_count": 146,
   "id": "f7eb2728-48a9-462e-95c1-b5afb88fe3e8",
   "metadata": {},
   "outputs": [],
   "source": [
    "def download_ooni_wc(cc):\n",
    "    url = f\"https://api.ooni.io/api/v1/aggregation?probe_cc={cc}&test_name=web_connectivity&since=2022-01-01&until=2022-12-31&time_grain=day&axis_x=category_code&axis_y=measurement_start_day&format=CSV&download=true\"\n",
    "    payload = {}\n",
    "    headers = {}\n",
    "    \n",
    "    try:\n",
    "        response = requests.request(\"GET\", url, headers=headers, data=payload)\n",
    "        response.raise_for_status()\n",
    "        filename = f'ooni_agg_wc_2022_{cc}.csv'\n",
    "        filepath = f'./data_source/ooni/wc/'\n",
    "        with open(f\"{filepath}{filename}\", \"w\") as f:\n",
    "            f.write(response.text)\n",
    "            f.close()\n",
    "           \n",
    "    except requests.exceptions.HTTPError as errh:\n",
    "        print (\"Http Error:\",errh)\n"
   ]
  },
  {
   "cell_type": "code",
   "execution_count": null,
   "id": "6ea1f7b0-ffc0-42f6-a943-69b9f5bfc7a3",
   "metadata": {},
   "outputs": [],
   "source": [
    "# get list from frag_index already_cc = [a1_df['cc'].unique()]\n",
    "new_cc = list(set(cc).difference(already_cc))\n",
    "new_cc.pop(0)"
   ]
  },
  {
   "cell_type": "code",
   "execution_count": 147,
   "id": "1f8dac1f-ac84-4c81-8a80-1afa0f8a13bb",
   "metadata": {},
   "outputs": [],
   "source": [
    "download_ooni_wc('UG')"
   ]
  },
  {
   "cell_type": "code",
   "execution_count": null,
   "id": "2c04d540-2403-4ce7-8992-aa103241a0ca",
   "metadata": {},
   "outputs": [],
   "source": [
    "for i in cc:\n",
    "    download_ooni_wc(i)"
   ]
  },
  {
   "cell_type": "code",
   "execution_count": null,
   "id": "f38fddb3-98c3-491e-9a8f-9f794fbb51a3",
   "metadata": {},
   "outputs": [],
   "source": []
  },
  {
   "cell_type": "code",
   "execution_count": 2,
   "id": "9ca31712-11e6-452c-9fb8-f1e9d449e448",
   "metadata": {},
   "outputs": [],
   "source": [
    "def download_ooni_cir(cc):\n",
    "    url = f\"https://api.ooni.io/api/v1/aggregation?probe_cc={cc}&test_name=torsf,tor,stunreachability,psiphon,riseupvpn&since=2022-01-01&until=2022-12-31&time_grain=day&axis_x=test_name&axis_y=measurement_start_day&format=CSV&download=true\"\n",
    "    payload = {}\n",
    "    headers = {}\n",
    "    \n",
    "    try:\n",
    "        response = requests.request(\"GET\", url, headers=headers, data=payload)\n",
    "        response.raise_for_status()\n",
    "        filename = f'ooni_agg_cir_2022_{cc}.csv'\n",
    "        filepath = f'./data_source/ooni/cir/'\n",
    "        with open(f\"{filepath}{filename}\", \"w\") as f:\n",
    "            f.write(response.text)\n",
    "            f.close()\n",
    "           \n",
    "    except requests.exceptions.HTTPError as errh:\n",
    "        print (\"Http Error:\",errh)"
   ]
  },
  {
   "cell_type": "code",
   "execution_count": 20,
   "id": "e16b2446-624a-48c3-be40-2b2232b09e37",
   "metadata": {},
   "outputs": [],
   "source": [
    "download_ooni_cir('SD')"
   ]
  },
  {
   "cell_type": "code",
   "execution_count": 8,
   "id": "aa50eac1-13dd-4433-8764-ec228086c85c",
   "metadata": {},
   "outputs": [],
   "source": [
    "def get_cc_list(path):\n",
    "    files = Path(path).glob('*.csv')\n",
    "    cc_list = []\n",
    "\n",
    "    for i in files:\n",
    "        data = i.name.split('_')[-1].strip('.csv')\n",
    "        cc_list.append(data)\n",
    "    return cc_list"
   ]
  },
  {
   "cell_type": "code",
   "execution_count": 9,
   "id": "d17dabb2-34bf-4cfb-8c5d-4e2597e9ebdc",
   "metadata": {},
   "outputs": [],
   "source": [
    "mypath = \"/Users/coes3/phd-labs/fraganal/data_source/ooni/wc/\"\n",
    "cc_list = get_cc_list(mypath)"
   ]
  },
  {
   "cell_type": "code",
   "execution_count": 11,
   "id": "d17a38f0-9aea-4804-94c8-6fd7ca70ce5c",
   "metadata": {},
   "outputs": [],
   "source": [
    "cc_list.remove('nan')"
   ]
  },
  {
   "cell_type": "code",
   "execution_count": 13,
   "id": "9c7e0f5c-1728-435d-aff1-be350472c57b",
   "metadata": {},
   "outputs": [
    {
     "name": "stdout",
     "output_type": "stream",
     "text": [
      "Http Error: 400 Client Error: BAD REQUEST for url: https://api.ooni.io/api/v1/aggregation?probe_cc=SD&test_name=torsf,tor,stunreachability,psiphon,riseupvpn&since=2022-01-01&until=2022-12-31&time_grain=day&axis_x=test_name&axis_y=measurement_start_day&format=CSV&download=true\n"
     ]
    }
   ],
   "source": [
    "for i in cc_list:\n",
    "    download_ooni_cir(i)"
   ]
  },
  {
   "cell_type": "code",
   "execution_count": 14,
   "id": "a30beb6e-cebf-41e6-92de-190c1f4abc6d",
   "metadata": {},
   "outputs": [],
   "source": [
    "mypath = \"/Users/coes3/phd-labs/fraganal/data_source/ooni/cir/\"\n",
    "cir_cc_list = get_cc_list(mypath)"
   ]
  },
  {
   "cell_type": "code",
   "execution_count": 19,
   "id": "051d6862-27e1-4da3-b848-3860e20d794b",
   "metadata": {},
   "outputs": [
    {
     "data": {
      "text/plain": [
       "{'SD'}"
      ]
     },
     "execution_count": 19,
     "metadata": {},
     "output_type": "execute_result"
    }
   ],
   "source": [
    "a = set(cc_list)\n",
    "b = set(cir_cc_list)\n",
    "a.difference(b)"
   ]
  },
  {
   "cell_type": "code",
   "execution_count": null,
   "id": "de3db559-ff19-45df-aa96-851211358ea6",
   "metadata": {},
   "outputs": [],
   "source": []
  }
 ],
 "metadata": {
  "kernelspec": {
   "display_name": "Python 3 (ipykernel)",
   "language": "python",
   "name": "python3"
  },
  "language_info": {
   "codemirror_mode": {
    "name": "ipython",
    "version": 3
   },
   "file_extension": ".py",
   "mimetype": "text/x-python",
   "name": "python",
   "nbconvert_exporter": "python",
   "pygments_lexer": "ipython3",
   "version": "3.9.12"
  }
 },
 "nbformat": 4,
 "nbformat_minor": 5
}
