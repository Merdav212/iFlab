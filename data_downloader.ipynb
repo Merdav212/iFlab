{
 "cells": [
  {
   "cell_type": "markdown",
   "id": "1c2bd0b7-cf21-4490-8f6d-52fdcaab0e7c",
   "metadata": {},
   "source": [
    "# This is a downloader tool to shortcut downloads of radar and ooni data set"
   ]
  },
  {
   "cell_type": "code",
   "execution_count": 7,
   "id": "7bd5f8c8-ed93-4e0a-8542-3d9f5442a1d5",
   "metadata": {},
   "outputs": [],
   "source": [
    "import requests\n",
    "import json\n",
    "import pandas as pd\n",
    "from pathlib import Path"
   ]
  },
  {
   "cell_type": "markdown",
   "id": "344395be-6241-47c6-8221-98c72e2a0a04",
   "metadata": {},
   "source": [
    "Below is a list of countries that are not covered by OONI dataset"
   ]
  },
  {
   "cell_type": "code",
   "execution_count": 143,
   "id": "8a5fc0b8-7062-4020-8ebd-a83874e5ec9c",
   "metadata": {},
   "outputs": [],
   "source": [
    "ex_cc_list = ['VG', 'KN', 'ER', 'PW', 'TC', 'FM', 'SX', 'PN', 'DM', 'BL', 'GS', 'MS', 'AI', 'VU', 'TK', 'CX', 'GI', 'NF', 'WF', 'AQ', 'NR'\n",
    "              'AX', 'SH', 'KP', 'EH', 'GW', 'UM', 'VA', 'PM', 'BV', 'GQ', 'MH', 'WS', 'ZA', 'SM', 'AS', 'FK', 'TF', 'NU', 'KI', 'VI', 'IO',\n",
    "               'SJ', 'BM', 'HM', 'TO', 'TV', 'MF','CK', 'MP','NR', 'AX']"
   ]
  },
  {
   "cell_type": "markdown",
   "id": "8c572397-c5d6-4752-af47-9e53534ebcaa",
   "metadata": {},
   "source": [
    "Use standard country list formated as alpha 2 and 3"
   ]
  },
  {
   "cell_type": "code",
   "execution_count": 144,
   "id": "7b85fbd3-729c-450a-a993-1f071f2b8b0f",
   "metadata": {},
   "outputs": [],
   "source": [
    "cc_filepath = \"/Users/coes3/phd-labs/fraganal/data_source/cc_alpha2_3.csv\"\n",
    "cc_df = pd.read_csv(cc_filepath)\n",
    "t_cc = cc_df['alpha-2'].to_list()"
   ]
  },
  {
   "cell_type": "markdown",
   "id": "253fd0ec-276d-4711-8998-a3ed72dbb9ce",
   "metadata": {},
   "source": [
    "Remove ex_cc_list from the standard country list and use the result for later queries and remove(pop) the 'nan' entry as a result of difference operation"
   ]
  },
  {
   "cell_type": "code",
   "execution_count": 145,
   "id": "5886ffcb-3f2e-4ecd-8f28-48026e8dd5a7",
   "metadata": {},
   "outputs": [
    {
     "data": {
      "text/plain": [
       "nan"
      ]
     },
     "execution_count": 145,
     "metadata": {},
     "output_type": "execute_result"
    }
   ],
   "source": [
    "cc = list(set(t_cc).difference(ex_cc_list))\n",
    "cc.pop(0)"
   ]
  },
  {
   "cell_type": "markdown",
   "id": "cf75ea47-1bf0-4cc4-bc36-740a044fd2a1",
   "metadata": {},
   "source": [
    "## Function to download protocol version distribution dataset from Cloudflare Radar, specify protocol version(ip_version or tls_version) and country for result"
   ]
  },
  {
   "cell_type": "code",
   "execution_count": 22,
   "id": "8a6c5aa0-4a99-49b4-8f36-ea422b9af804",
   "metadata": {},
   "outputs": [],
   "source": [
    "def download_radar(proto, cc):\n",
    "    url = f\"https://api.cloudflare.com/client/v4/radar/http/timeseries/{proto}?dateStart=2022-01-01&dateEnd=2022-12-31&location={cc}&format=csv\"\n",
    "    payload = {}\n",
    "    headers = {\n",
    "      'X-Auth-Email': 'edsland@gmail.com',\n",
    "      'X-Auth-Key': '9e244d85618b64e8e9024105880368e0c3f9c',\n",
    "      'Content-Type': 'application/json'\n",
    "    }\n",
    "    \n",
    "    try:\n",
    "        response = requests.request(\"GET\", url, headers=headers, data=payload)\n",
    "        response.raise_for_status()\n",
    "        filename = f'{proto}_2022_{cc}.csv'\n",
    "        filepath = f'./data_source/radar/{proto}/'\n",
    "        with open(f\"{filepath}{filename}\", \"w\") as f:\n",
    "            f.write(response.text)\n",
    "            f.close()\n",
    "           \n",
    "    except requests.exceptions.HTTPError as errh:\n",
    "        print (\"Http Error:\",errh)\n"
   ]
  },
  {
   "cell_type": "markdown",
   "id": "68f94a67-bc9c-40ab-9f59-1d318b6327f0",
   "metadata": {},
   "source": [
    "Test function with below example"
   ]
  },
  {
   "cell_type": "code",
   "execution_count": 2,
   "id": "9d7234ad-2800-463b-babf-8436cbe79e90",
   "metadata": {},
   "outputs": [],
   "source": [
    "proto = 'tls_version'\n",
    "#ip_version\n",
    "cc = 'BR'\n",
    "\n",
    "download_radar(proto, cc)"
   ]
  },
  {
   "cell_type": "markdown",
   "id": "a5c980b2-ca74-4ac1-8242-484a7326e30b",
   "metadata": {},
   "source": [
    "Download ip_version data set for all countries in cc list"
   ]
  },
  {
   "cell_type": "code",
   "execution_count": 35,
   "id": "cec14a39-accd-4179-9313-e0cdc4227775",
   "metadata": {},
   "outputs": [],
   "source": [
    "proto = 'ip_version'\n",
    "\n",
    "for i in cc:\n",
    "    download_radar(proto, i)"
   ]
  },
  {
   "cell_type": "code",
   "execution_count": null,
   "id": "bd1b2b7d-ae99-4ad2-b527-bdcd29087d57",
   "metadata": {},
   "outputs": [],
   "source": []
  },
  {
   "cell_type": "markdown",
   "id": "abad1220-fe20-45b2-b0af-2f367b110ba6",
   "metadata": {},
   "source": [
    "## Function to download OONI Web Connectivity dataset from OONI, you can specify a number of parameters including country, category_code, time grain, etc. More info here:\n",
    "API DOC: https://api.ooni.io/apidocs/"
   ]
  },
  {
   "cell_type": "code",
   "execution_count": 146,
   "id": "f7eb2728-48a9-462e-95c1-b5afb88fe3e8",
   "metadata": {},
   "outputs": [],
   "source": [
    "def download_ooni_wc(cc):\n",
    "    url = f\"https://api.ooni.io/api/v1/aggregation?probe_cc={cc}&test_name=web_connectivity&since=2022-01-01&until=2022-12-31&time_grain=day&axis_x=category_code&axis_y=measurement_start_day&format=CSV&download=true\"\n",
    "    payload = {}\n",
    "    headers = {}\n",
    "    \n",
    "    try:\n",
    "        response = requests.request(\"GET\", url, headers=headers, data=payload)\n",
    "        response.raise_for_status()\n",
    "        filename = f'ooni_agg_wc_2022_{cc}.csv'\n",
    "        filepath = f'./data_source/ooni/wc/'\n",
    "        with open(f\"{filepath}{filename}\", \"w\") as f:\n",
    "            f.write(response.text)\n",
    "            f.close()\n",
    "           \n",
    "    except requests.exceptions.HTTPError as errh:\n",
    "        print (\"Http Error:\",errh)\n"
   ]
  },
  {
   "cell_type": "markdown",
   "id": "9a2611a9-75d9-4721-bcd0-b6ed1d9208bf",
   "metadata": {},
   "source": [
    "Test function with below example"
   ]
  },
  {
   "cell_type": "code",
   "execution_count": 147,
   "id": "1f8dac1f-ac84-4c81-8a80-1afa0f8a13bb",
   "metadata": {},
   "outputs": [],
   "source": [
    "download_ooni_wc('UG')"
   ]
  },
  {
   "cell_type": "markdown",
   "id": "80eb5018-54c4-4e64-8405-29bea2a4283c",
   "metadata": {},
   "source": [
    "Download webconnectivity dataset for all countries in cc list"
   ]
  },
  {
   "cell_type": "code",
   "execution_count": null,
   "id": "2c04d540-2403-4ce7-8992-aa103241a0ca",
   "metadata": {},
   "outputs": [],
   "source": [
    "for i in cc:\n",
    "    download_ooni_wc(i)"
   ]
  },
  {
   "cell_type": "markdown",
   "id": "9f611d52-d271-4e7f-856a-e9f9bf66288d",
   "metadata": {},
   "source": [
    "## Function to download OONI Circumvention Tool availability dataset from OONI, you can specify a number of parameters including country, test names, time grain, etc. More info here:\n",
    "API DOC: https://api.ooni.io/apidocs/"
   ]
  },
  {
   "cell_type": "code",
   "execution_count": 2,
   "id": "9ca31712-11e6-452c-9fb8-f1e9d449e448",
   "metadata": {},
   "outputs": [],
   "source": [
    "def download_ooni_cir(cc):\n",
    "    url = f\"https://api.ooni.io/api/v1/aggregation?probe_cc={cc}&test_name=torsf,tor,stunreachability,psiphon,riseupvpn&since=2022-01-01&until=2022-12-31&time_grain=day&axis_x=test_name&axis_y=measurement_start_day&format=CSV&download=true\"\n",
    "    payload = {}\n",
    "    headers = {}\n",
    "    \n",
    "    try:\n",
    "        response = requests.request(\"GET\", url, headers=headers, data=payload)\n",
    "        response.raise_for_status()\n",
    "        filename = f'ooni_agg_cir_2022_{cc}.csv'\n",
    "        filepath = f'./data_source/ooni/cir/'\n",
    "        with open(f\"{filepath}{filename}\", \"w\") as f:\n",
    "            f.write(response.text)\n",
    "            f.close()\n",
    "           \n",
    "    except requests.exceptions.HTTPError as errh:\n",
    "        print (\"Http Error:\",errh)"
   ]
  },
  {
   "cell_type": "markdown",
   "id": "2c179443-7dd7-41df-8b51-a6d60c54c1d1",
   "metadata": {},
   "source": [
    "Test function with below example"
   ]
  },
  {
   "cell_type": "code",
   "execution_count": 20,
   "id": "e16b2446-624a-48c3-be40-2b2232b09e37",
   "metadata": {},
   "outputs": [],
   "source": [
    "download_ooni_cir('SD')"
   ]
  },
  {
   "cell_type": "markdown",
   "id": "d4b6aa45-a6be-474e-a4c3-595a5eb0faa9",
   "metadata": {},
   "source": [
    "Get country list from wc run and use this as cc_list for circumvention tool run, not neccessary if cc is correct"
   ]
  },
  {
   "cell_type": "code",
   "execution_count": 8,
   "id": "aa50eac1-13dd-4433-8764-ec228086c85c",
   "metadata": {},
   "outputs": [],
   "source": [
    "def get_cc_list(path):\n",
    "    files = Path(path).glob('*.csv')\n",
    "    cc_list = []\n",
    "\n",
    "    for i in files:\n",
    "        data = i.name.split('_')[-1].strip('.csv')\n",
    "        cc_list.append(data)\n",
    "    return cc_list"
   ]
  },
  {
   "cell_type": "code",
   "execution_count": 9,
   "id": "d17dabb2-34bf-4cfb-8c5d-4e2597e9ebdc",
   "metadata": {},
   "outputs": [],
   "source": [
    "mypath = \"/Users/coes3/phd-labs/fraganal/data_source/ooni/wc/\"\n",
    "cc_list = get_cc_list(mypath)"
   ]
  },
  {
   "cell_type": "code",
   "execution_count": 11,
   "id": "d17a38f0-9aea-4804-94c8-6fd7ca70ce5c",
   "metadata": {},
   "outputs": [],
   "source": [
    "cc_list.remove('nan')"
   ]
  },
  {
   "cell_type": "markdown",
   "id": "e4f8c851-8c63-40c6-97f4-1c7196d525f8",
   "metadata": {},
   "source": [
    "Download circumvention tool dataset for all countries in cc_list"
   ]
  },
  {
   "cell_type": "code",
   "execution_count": 13,
   "id": "9c7e0f5c-1728-435d-aff1-be350472c57b",
   "metadata": {},
   "outputs": [
    {
     "name": "stdout",
     "output_type": "stream",
     "text": [
      "Http Error: 400 Client Error: BAD REQUEST for url: https://api.ooni.io/api/v1/aggregation?probe_cc=SD&test_name=torsf,tor,stunreachability,psiphon,riseupvpn&since=2022-01-01&until=2022-12-31&time_grain=day&axis_x=test_name&axis_y=measurement_start_day&format=CSV&download=true\n"
     ]
    }
   ],
   "source": [
    "for i in cc_list:\n",
    "    download_ooni_cir(i)"
   ]
  }
 ],
 "metadata": {
  "kernelspec": {
   "display_name": "Python 3 (ipykernel)",
   "language": "python",
   "name": "python3"
  },
  "language_info": {
   "codemirror_mode": {
    "name": "ipython",
    "version": 3
   },
   "file_extension": ".py",
   "mimetype": "text/x-python",
   "name": "python",
   "nbconvert_exporter": "python",
   "pygments_lexer": "ipython3",
   "version": "3.9.12"
  }
 },
 "nbformat": 4,
 "nbformat_minor": 5
}
